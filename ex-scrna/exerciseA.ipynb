{
 "cells": [
  {
   "cell_type": "markdown",
   "id": "b033a828",
   "metadata": {},
   "source": [
    "# Big data analysis using machine learning and probabilistic models \n",
    "# part A - 1D distributions"
   ]
  },
  {
   "cell_type": "markdown",
   "id": "6c7a0b57",
   "metadata": {},
   "source": [
    "### General Instructions \n",
    "Follow the instructions below to analyze the data matrix “mm_gastru_small.h5ad”. You are free to use any package or software (in Python or R). As we are practicing here data analysis, which is always done under uncertainty, you will find that in many cases you need to make hard decisions on parameters/algorithms/visualization. This is OK. There is no single “correct” solution – a perfect project will be one that conveys understanding of the underlying data using the methodologies we studied in class.<br />\n",
    "<br />\n",
    "Describe your work in:<br />\n",
    "A Jupyter notebook with explanations in markdown and comments.<br />\n",
    "Alternatively, provide A written report (pdf) with concise description of what you find, including figures (strict limit on length is 6 pages – keep figures small..). As well as your “source” code (no need to have it documented, but put sections in it per figure you are generating.<br />\n",
    "Please work alone. You are however free to discuss with fellow students regarding tools and analysis strategies. \n"
   ]
  },
  {
   "cell_type": "markdown",
   "id": "e2f39bff",
   "metadata": {},
   "source": [
    "[Presentation slides](https://www.dropbox.com/scl/fi/n9p05lfywobb87z9m8u2v/aihub_scrna_ex.pptx?rlkey=4pow0181sr4wog0wasxv2xg34&dl=0)"
   ]
  },
  {
   "cell_type": "markdown",
   "id": "09eec3d7",
   "metadata": {
    "ExecuteTime": {
     "end_time": "2023-07-03T10:56:06.061728Z",
     "start_time": "2023-07-03T10:56:05.951099Z"
    }
   },
   "source": [
    "#### A bit of biological context (for the curious and less biologically inclined) [tl;dr measures the expression of genes in cells]\n",
    "Single-cell transcriptomics examines the gene expression level of individual cells in a given population by simultaneously measuring the RNA concentration (conventionally only messenger RNA (mRNA)) of hundreds to thousands of genes. Single-cell transcriptomics makes it possible to unravel heterogeneous cell populations, reconstruct cellular developmental pathways, and model transcriptional dynamics. <br>\n",
    "Typical single-cell RNA-Seq workflow: Single cells are isolated from a sample into either wells or droplets, cDNA libraries are generated and amplified, libraries are sequenced, and expression matrices are generated for downstream analyses like cell type identification.\n",
    "![Single Cell RNA Sequencing (scRNA-seq)](https://upload.wikimedia.org/wikipedia/commons/thumb/a/aa/RNA-Seq_workflow-5.pdf/page1-800px-RNA-Seq_workflow-5.pdf.jpg)\n",
    "\n",
    "\n",
    "#### A note on sparse matrices [tl;dr matrices where most elements are zero]\n",
    "A sparse matrix or sparse array is a matrix in which most of the elements are zero. There is no strict definition regarding the proportion of zero-value elements for a matrix to qualify as sparse but a common criterion is that the number of non-zero elements is roughly equal to the number of rows or columns. By contrast, if most of the elements are non-zero, the matrix is considered dense. The number of zero-valued elements divided by the total number of elements (e.g., m × n for an m × n matrix) is sometimes referred to as the sparsity of the matrix. <br>\n",
    "#### Storing a sparse matrix [tl;dr sparse matrices are usually found in dedicated data formats]\n",
    "A matrix is typically stored as a two-dimensional array. Each entry in the array represents an element ai,j of the matrix and is accessed by the two indices i and j. Conventionally, i is the row index, numbered from top to bottom, and j is the column index, numbered from left to right. For an m × n matrix, the amount of memory required to store the matrix in this format is proportional to m × n (disregarding the fact that the dimensions of the matrix also need to be stored).<br>\n",
    "<br>\n",
    "In the case of a sparse matrix, substantial memory requirement reductions can be realized by storing only the non-zero entries. Depending on the number and distribution of the non-zero entries, different data structures can be used and yield huge savings in memory when compared to the basic approach. The trade-off is that accessing the individual elements becomes more complex and additional structures are needed to be able to recover the original matrix unambiguously. <br>"
   ]
  },
  {
   "cell_type": "markdown",
   "id": "6296235f",
   "metadata": {},
   "source": [
    "### Description of the data\n",
    "Our input is a table, depicting the number of molecules attributed to each cell and each gene. The cells are also annotated with some grouping and additional metadata. Here we sample cells from mouse embryos at gestation days 6 to 7.5, when the embryos start gastrulating - transforming from a uniform mass of cells to many different cell types with specific expertise.\n",
    "\n",
    "Raw data matrix – is a sparse matrix of integers. It indicates the number of sampled RNA molecules per gene (variables / columns) in a set of cells (observables / rows). The sparseness comes from the fact that the total number of genes in the genome is big (\\~30,000), but the total number of RNAs is not much bigger (\\~100,000), so RNA from most genes are not present in most cells. In addition, the experiment that generate the data samples only a subset of the RNA molecules in the cell (1,000-10,000).<br />\n",
    "The data is provided in the anndata format, where the matrix itself is available in the field “X” (X is the actual name of the field). Additional metadata for the rows/cols is available under obs/var fields. Note, modified X versions can be placed in “layers”.<br />\n",
    "![Data structure schematic (Anndata)](anndata_schema.png)\n",
    "Data structure schematic (Anndata)"
   ]
  },
  {
   "cell_type": "markdown",
   "id": "005422df",
   "metadata": {},
   "source": [
    "### In this stage you'll explore sparse data matrix of samples (cells) over features (genes). \n",
    "    Your overall goal is to find \"interesting\" features. \n",
    "    You will normalize samples using simple strategies and explore the distribution of features of samples"
   ]
  },
  {
   "cell_type": "markdown",
   "id": "b90c4109-32d5-4968-a536-fe3c90f025a1",
   "metadata": {},
   "source": [
    "### Imports"
   ]
  },
  {
   "cell_type": "code",
   "execution_count": 1,
   "id": "284ec558",
   "metadata": {
    "ExecuteTime": {
     "end_time": "2023-07-04T06:14:16.191284Z",
     "start_time": "2023-07-04T06:14:12.935343Z"
    }
   },
   "outputs": [],
   "source": [
    "import anndata as ad\n",
    "import scanpy as sc\n",
    "import metacells as mc\n",
    "import pandas as pd\n",
    "import numpy as np\n",
    "import sklearn as skl\n",
    "import scipy.stats as stats\n",
    "import matplotlib.pylab as plt\n",
    "import os\n",
    "import seaborn as sns\n",
    "%matplotlib inline"
   ]
  },
  {
   "cell_type": "code",
   "execution_count": 2,
   "id": "cc9b4235",
   "metadata": {},
   "outputs": [
    {
     "name": "stdout",
     "output_type": "stream",
     "text": [
      "Current working directory is: /home/labs/antebilab/guyilan/master/aihub/Tutorials/AIhub/ex-scrna\n"
     ]
    }
   ],
   "source": [
    "#Get current working directory:\n",
    "cwd = os.getcwd()\n",
    "\n",
    "# if cwd is not 'root/guyilan/masetr/aihub/Tutorials/AIhub/ex-scrna' then change it\n",
    "if cwd != '/home/labs/antebilab/guyilan/master/aihub/Tutorials/AIhub/ex-scrna':\n",
    "    os.chdir('/home/labs/antebilab/guyilan/master/aihub/Tutorials/AIhub/ex-scrna')\n",
    "    cwd = os.getcwd()\n",
    "    print('Current working directory is:', cwd)"
   ]
  },
  {
   "cell_type": "markdown",
   "id": "fcd26f08-722d-4b0f-b5e5-e287d197f09c",
   "metadata": {},
   "source": [
    "#### Download the data\n",
    "<span style=\"color: red;\">\n",
    "Download data (only when starting the tutorial for the first time):</span>"
   ]
  },
  {
   "cell_type": "code",
   "execution_count": 4,
   "id": "e68ecd6f-68d1-4e4b-8dbd-16521e29b487",
   "metadata": {},
   "outputs": [],
   "source": [
    "#!wget https://embexe.s3.eu-west-1.amazonaws.com/mm_gastru_small.h5ad"
   ]
  },
  {
   "cell_type": "markdown",
   "id": "7a14e44a",
   "metadata": {},
   "source": [
    "# 1D distributions"
   ]
  },
  {
   "cell_type": "markdown",
   "id": "55ced9f7",
   "metadata": {},
   "source": [
    "## Tasks\n",
    "\n",
    "1.\tRead the raw data matrix using the anndata package (“read_h5ad” function):\n",
    "\n",
    "    a)\tHow many cells are there? How many genes? (hint: how many rows? columns?)\n",
    "    \n",
    "    b)\tWhat is the sparsity of this matrix?\n",
    "    \n",
    "    c)\tPlot a histogram of the cell (rows / obs) sums   \n",
    "            try using log\n",
    "            \n",
    "    i.e. - total sum of genes per cell, and limit the max range in the plot."
   ]
  },
  {
   "cell_type": "markdown",
   "id": "12e9f96c",
   "metadata": {},
   "source": [
    "1a. The data contains 14975 cells and 19701 genes \n",
    "<br>\n",
    "1b. Sparsity - The number of zero-valued elements divided by the total number of elements. sparsity of the matrix is 0.9057"
   ]
  },
  {
   "cell_type": "code",
   "execution_count": 3,
   "id": "560a8c0a",
   "metadata": {},
   "outputs": [],
   "source": [
    "#Read the data:\n",
    "adata = ad.read_h5ad(\"mm_gastru_small.h5ad\")\n",
    "df_adata = pd.DataFrame(adata.X.todense(), index=adata.obs.index, columns=adata.var.index)\n"
   ]
  },
  {
   "cell_type": "code",
   "execution_count": 15,
   "id": "435a472c",
   "metadata": {},
   "outputs": [
    {
     "data": {
      "text/plain": [
       "(0.0, 30.0)"
      ]
     },
     "execution_count": 15,
     "metadata": {},
     "output_type": "execute_result"
    },
    {
     "data": {
      "image/png": "[encoded data removed]",
      "text/plain": [
       "<Figure size 640x480 with 1 Axes>"
      ]
     },
     "metadata": {},
     "output_type": "display_data"
    }
   ],
   "source": [
    "plt.scatter(adata.X.toarray().mean(axis=0),adata.X.toarray().std(axis=0), s=4)\n",
    "plt.xlim(0, 40)\n",
    "plt.ylim(0, 30)\n"
   ]
  },
  {
   "cell_type": "markdown",
   "id": "55965e71",
   "metadata": {},
   "source": [
    "2.\tWorking on the raw data matrix, study the statistical distributions of total cells (rows) sums. \n",
    "    Is it a normal distribution? perhaps log-normal? two overlaid distributions?<br>"
   ]
  },
  {
   "cell_type": "markdown",
   "id": "fc8683f8",
   "metadata": {},
   "source": [
    "* Looking at the KDE plot we can see one distributions with another small peak at the origin.\n",
    "<br>\n",
    "* The peak is from many cells containing low numbers of genes, which are probably the product of technical noise or dead cells. \n",
    "<br>\n",
    "* It can be considered as another ditribution which represent the low read / low genes cells, but it is not relevant for our analysis.\n",
    "<br>\n",
    "* The main distribution does not look like a normal distribution. It looks more like negatibe binomial distribution which is often used to as a model for gene expression data"
   ]
  },
  {
   "cell_type": "markdown",
   "id": "18eff314",
   "metadata": {},
   "source": [
    "3.\tSuggest a minimal sum for the cells (rows). Under-sampled cells typically report empty samples. Remove them from the dataset."
   ]
  },
  {
   "cell_type": "code",
   "execution_count": 53,
   "id": "379f5ef3",
   "metadata": {},
   "outputs": [
    {
     "data": {
      "image/png": "[encoded data removed]",
      "text/plain": [
       "<Figure size 700x500 with 1 Axes>"
      ]
     },
     "metadata": {},
     "output_type": "display_data"
    }
   ],
   "source": [
    "#1c plotting histograms of the number of umis and counts per cell\n",
    "total_umis_log = np.log2(np.sum(df_adata , axis=1)+1)\n",
    "\n",
    "\n",
    "plt.figure(figsize=(7, 5))\n",
    "umis_hist = plt.hist(total_umis_log, bins=100)\n",
    "plt.xlabel('Number of umis')\n",
    "plt.ylabel('Number of cells')\n",
    "plt.axvline(x=10, color='r', linestyle='--')\n",
    "\n",
    "plt.show()\n",
    "\n",
    "\n"
   ]
  },
  {
   "cell_type": "code",
   "execution_count": 54,
   "id": "9bee0169",
   "metadata": {},
   "outputs": [
    {
     "name": "stdout",
     "output_type": "stream",
     "text": [
      "Number of barcodes removed: 2373\n"
     ]
    }
   ],
   "source": [
    "df_adata = df_adata[df_adata.sum(axis=1) > 1000]\n",
    "\n",
    "new_cell_coint = df_adata.shape[0]\n",
    "\n",
    "old_cell_count = adata.shape[0]\n",
    "\n",
    "barcodes_removed = old_cell_count - new_cell_coint\n",
    "\n",
    "print('Number of barcodes removed:', barcodes_removed)   "
   ]
  },
  {
   "cell_type": "markdown",
   "id": "cb91d189",
   "metadata": {
    "ExecuteTime": {
     "end_time": "2023-07-04T06:12:33.765540Z",
     "start_time": "2023-07-04T06:12:33.762801Z"
    }
   },
   "source": [
    "4.\tWorking on the cleaned data matrix, study the statistical distributions of total genes (columns) sums."
   ]
  },
  {
   "cell_type": "code",
   "execution_count": 55,
   "id": "f23a89a2",
   "metadata": {},
   "outputs": [],
   "source": [
    "total_umis_per_gene = np.sum(df_adata, axis=0)\n",
    "total_umis_per_gene_log = np.log2(np.sum(df_adata, axis=0)+1)"
   ]
  },
  {
   "cell_type": "code",
   "execution_count": 56,
   "id": "c71994e9",
   "metadata": {},
   "outputs": [
    {
     "data": {
      "image/png": "[encoded data removed]",
      "text/plain": [
       "<Figure size 700x500 with 1 Axes>"
      ]
     },
     "metadata": {},
     "output_type": "display_data"
    }
   ],
   "source": [
    "plt.figure(figsize=(7, 5))\n",
    "cells_hist = plt.hist(total_umis_per_gene_log, bins=100)\n",
    "plt.xlabel('Number of cells')\n",
    "plt.ylabel('Number of genes')\n",
    "plt.show()"
   ]
  },
  {
   "cell_type": "markdown",
   "id": "3b7901bc",
   "metadata": {},
   "source": [
    "5. Which features show high variance? report top 10 genes"
   ]
  },
  {
   "cell_type": "code",
   "execution_count": 59,
   "id": "a149698a",
   "metadata": {},
   "outputs": [
    {
     "data": {
      "text/html": [
       "<div>\n",
       "<style scoped>\n",
       "    .dataframe tbody tr th:only-of-type {\n",
       "        vertical-align: middle;\n",
       "    }\n",
       "\n",
       "    .dataframe tbody tr th {\n",
       "        vertical-align: top;\n",
       "    }\n",
       "\n",
       "    .dataframe thead th {\n",
       "        text-align: right;\n",
       "    }\n",
       "</style>\n",
       "<table border=\"1\" class=\"dataframe\">\n",
       "  <thead>\n",
       "    <tr style=\"text-align: right;\">\n",
       "      <th></th>\n",
       "      <th>std</th>\n",
       "      <th>sum</th>\n",
       "    </tr>\n",
       "  </thead>\n",
       "  <tbody>\n",
       "    <tr>\n",
       "      <th>Rn45s</th>\n",
       "      <td>170.753159</td>\n",
       "      <td>1480802.0</td>\n",
       "    </tr>\n",
       "    <tr>\n",
       "      <th>BC069931</th>\n",
       "      <td>41.745323</td>\n",
       "      <td>901617.0</td>\n",
       "    </tr>\n",
       "    <tr>\n",
       "      <th>Hsp90aa1</th>\n",
       "      <td>34.777657</td>\n",
       "      <td>639552.0</td>\n",
       "    </tr>\n",
       "    <tr>\n",
       "      <th>Gm6654</th>\n",
       "      <td>28.279007</td>\n",
       "      <td>507356.0</td>\n",
       "    </tr>\n",
       "    <tr>\n",
       "      <th>Npm1</th>\n",
       "      <td>22.527599</td>\n",
       "      <td>414019.0</td>\n",
       "    </tr>\n",
       "    <tr>\n",
       "      <th>Rpl41</th>\n",
       "      <td>21.608385</td>\n",
       "      <td>406297.0</td>\n",
       "    </tr>\n",
       "    <tr>\n",
       "      <th>Gm6402</th>\n",
       "      <td>21.597147</td>\n",
       "      <td>443906.0</td>\n",
       "    </tr>\n",
       "    <tr>\n",
       "      <th>Gm12504</th>\n",
       "      <td>21.387146</td>\n",
       "      <td>339659.0</td>\n",
       "    </tr>\n",
       "    <tr>\n",
       "      <th>Rplp0</th>\n",
       "      <td>19.318336</td>\n",
       "      <td>388525.0</td>\n",
       "    </tr>\n",
       "    <tr>\n",
       "      <th>Ppia</th>\n",
       "      <td>18.805542</td>\n",
       "      <td>315722.0</td>\n",
       "    </tr>\n",
       "  </tbody>\n",
       "</table>\n",
       "</div>"
      ],
      "text/plain": [
       "                 std        sum\n",
       "Rn45s     170.753159  1480802.0\n",
       "BC069931   41.745323   901617.0\n",
       "Hsp90aa1   34.777657   639552.0\n",
       "Gm6654     28.279007   507356.0\n",
       "Npm1       22.527599   414019.0\n",
       "Rpl41      21.608385   406297.0\n",
       "Gm6402     21.597147   443906.0\n",
       "Gm12504    21.387146   339659.0\n",
       "Rplp0      19.318336   388525.0\n",
       "Ppia       18.805542   315722.0"
      ]
     },
     "execution_count": 59,
     "metadata": {},
     "output_type": "execute_result"
    }
   ],
   "source": [
    "df_adata_var = df_adata.std(axis=0).sort_values(ascending=False)\n",
    "\n",
    "df_adata_sum = df_adata.sum(axis=0).sort_values(ascending=False)\n",
    "\n",
    "df = pd.concat([df_adata_var, df_adata_sum], axis=1).head(10)\n",
    "df = df.rename(columns={0: 'std', 1: 'sum'})\n",
    "df\n"
   ]
  },
  {
   "cell_type": "markdown",
   "id": "fcec4637",
   "metadata": {},
   "source": [
    "6. normalize samples by their coverage"
   ]
  },
  {
   "cell_type": "code",
   "execution_count": 69,
   "id": "cac87c6e",
   "metadata": {},
   "outputs": [
    {
     "name": "stdout",
     "output_type": "stream",
     "text": [
      "Rn45s       0.024083\n",
      "BC069931    0.005819\n",
      "Spink1      0.003103\n",
      "AK186242    0.002578\n",
      "Hsp90aa1    0.002546\n",
      "Gm6654      0.002500\n",
      "Rpl41       0.001890\n",
      "Gm12504     0.001888\n",
      "Npm1        0.001832\n",
      "Ppia        0.001818\n",
      "dtype: float32\n",
      "Rn45s       289.335236\n",
      "BC069931    168.314056\n",
      "Hsp90aa1    110.859306\n",
      "Gm6654       86.965759\n",
      "Gm6402       77.982315\n",
      "Rpl41        71.249786\n",
      "Npm1         70.662170\n",
      "Rplp0        67.777130\n",
      "Rpl10a       66.885620\n",
      "Gm12504      57.078297\n",
      "dtype: float32\n"
     ]
    }
   ],
   "source": [
    "df_adata_sum = df_adata.sum(axis=1)\n",
    "\n",
    "df_norm = df_adata.div(df_adata_sum, axis=0)\n",
    "\n",
    "df_norm_std = df_norm.std(axis=0).sort_values(ascending=False)[:10]\n",
    "\n",
    "df_norm_sum = df_norm.sum(axis=0).sort_values(ascending=False)[:10]\n",
    "\n",
    "print(df_norm_std)\n",
    "print(df_norm_sum)"
   ]
  },
  {
   "cell_type": "code",
   "execution_count": 71,
   "id": "b502dd58",
   "metadata": {},
   "outputs": [
    {
     "data": {
      "image/png": "[encoded data removed]",
      "text/plain": [
       "<Figure size 700x500 with 1 Axes>"
      ]
     },
     "metadata": {},
     "output_type": "display_data"
    }
   ],
   "source": [
    "log_df_norm = np.log2(df_norm+1e-3)\n",
    "\n",
    "log_df_norm_mean = log_df_norm.mean(axis=0)\n",
    "\n",
    "#make a histogram of the mean of the log normalized data\n",
    "plt.figure(figsize=(7, 5))\n",
    "log_df_norm_mean_hist = plt.hist(log_df_norm_mean, bins=100)\n",
    "plt.xlabel('Mean of log normalized data')\n",
    "plt.ylabel('Number of genes')\n",
    "plt.show()\n",
    "\n"
   ]
  },
  {
   "cell_type": "markdown",
   "id": "26bbe199",
   "metadata": {},
   "source": [
    "5.\tThe down-sampled matrix – is the raw data matrix in which each column (cell) where sufficient RNA count is normalized probabilistically. For example, sampling exactly 1000 RNAs from the cell. This is the matrix you should generally work with. Down-sample the matrix and perform a similar analysis on the distribution of total gene sums.\n",
    "  \n",
    "    Use either scanpy or metacells packages for downsampling .\n",
    "    "
   ]
  },
  {
   "cell_type": "code",
   "execution_count": 109,
   "id": "d10b5dfc",
   "metadata": {},
   "outputs": [
    {
     "name": "stderr",
     "output_type": "stream",
     "text": [
      "set unnamed.layers[downsampled]: csr_matrix 14976 X 19701 float32s (6982272 > 0, 2.367%)\n",
      "set unnamed.uns[downsample_samples]: 750\n"
     ]
    }
   ],
   "source": [
    "adata_ds = adata\n",
    "\n",
    "mc.tl.downsample_cells(adata_ds, random_seed=42, inplace=True)"
   ]
  },
  {
   "cell_type": "code",
   "execution_count": null,
   "id": "054bec8c",
   "metadata": {},
   "outputs": [],
   "source": [
    "data_matrix = adata_ds.layers['downsampled']\n",
    "if hasattr(data_matrix, \"toarray\"):\n",
    "    data_matrix = data_matrix.toarray()\n",
    "\n",
    "# Check if reshaping is needed\n",
    "if data_matrix.shape[1] == 1:\n",
    "    data_matrix = data_matrix.reshape(len(adata_ds.obs.index), len(adata_ds.var.index))\n",
    "\n",
    "df_try = pd.DataFrame(data_matrix, index=adata_ds.obs.index, columns=adata_ds.var.index)\n"
   ]
  },
  {
   "cell_type": "code",
   "execution_count": 127,
   "id": "bd6c6346",
   "metadata": {},
   "outputs": [
    {
     "data": {
      "text/plain": [
       "6D         0.000000\n",
       "A1cf       0.000000\n",
       "A2m        0.001536\n",
       "A3galt2    0.001669\n",
       "A4galt     0.001402\n",
       "             ...   \n",
       "Zyx        0.098958\n",
       "Zzef1      0.007412\n",
       "Zzz3       0.054621\n",
       "l7Rn6      0.106036\n",
       "mdab1      0.000000\n",
       "Length: 19701, dtype: float32"
      ]
     },
     "execution_count": 127,
     "metadata": {},
     "output_type": "execute_result"
    }
   ],
   "source": [
    "df_try.mean(axis=0)"
   ]
  },
  {
   "cell_type": "code",
   "execution_count": 85,
   "id": "85324a4e",
   "metadata": {},
   "outputs": [
    {
     "data": {
      "text/plain": [
       "(0.0, 5.0)"
      ]
     },
     "execution_count": 85,
     "metadata": {},
     "output_type": "execute_result"
    },
    {
     "data": {
      "image/png": "[encoded data removed]",
      "text/plain": [
       "<Figure size 640x480 with 1 Axes>"
      ]
     },
     "metadata": {},
     "output_type": "display_data"
    }
   ],
   "source": [
    "plt.scatter(adata_ds.layers['downsampled'].toarray().mean(axis=0),adata_ds.layers['downsampled'].toarray().std(axis=0), s=4)\n",
    "plt.xlim(0, 5)\n",
    "plt.ylim(0, 5)"
   ]
  },
  {
   "cell_type": "code",
   "execution_count": 97,
   "id": "cae21991",
   "metadata": {},
   "outputs": [],
   "source": [
    "#Filter data to include only cells with more than 750 umis:\n",
    "adata_filt_ds = adata_ds[adata_ds.X.sum(axis=1) > 750]"
   ]
  },
  {
   "cell_type": "code",
   "execution_count": 98,
   "id": "65cc6b7c",
   "metadata": {},
   "outputs": [
    {
     "data": {
      "text/plain": [
       "(19701,)"
      ]
     },
     "execution_count": 98,
     "metadata": {},
     "output_type": "execute_result"
    }
   ],
   "source": [
    "adata_filt_ds.layers['downsampled'].toarray().mean(axis=0).shape"
   ]
  },
  {
   "cell_type": "markdown",
   "id": "aeb301b9",
   "metadata": {},
   "source": [
    "7. Plot standard deviation vs. Mean on the two normed matrices"
   ]
  },
  {
   "cell_type": "code",
   "execution_count": 99,
   "id": "717d7654",
   "metadata": {},
   "outputs": [
    {
     "data": {
      "image/png": "[encoded data removed]",
      "text/plain": [
       "<Figure size 1000x500 with 2 Axes>"
      ]
     },
     "metadata": {},
     "output_type": "display_data"
    }
   ],
   "source": [
    "df_norm_mean = df_norm.mean(axis=0)\n",
    "df_norm_std = df_norm.std(axis=0)\n",
    "\n",
    "adata_ds_mean = adata_filt_ds.layers['downsampled'].toarray().mean(axis=0)\n",
    "adata_ds_std = adata_filt_ds.layers['downsampled'].toarray().std(axis=0)\n",
    "\n",
    "fig, ax = plt.subplots(1,2,figsize=(10, 5))\n",
    "\n",
    "#plot the mean and std of the normalized data:\n",
    "ax[0].scatter(df_norm_mean, df_norm_std, s=1)\n",
    "ax[0].set_xlabel('Mean')\n",
    "ax[0].set_ylabel('Std')\n",
    "ax[0].set_ylim(-0.0002, 0.002)\n",
    "ax[0].set_xlim(-0.0002, 0.007)\n",
    "# ax[0].set_xscale('log')\n",
    "\n",
    "ax[1].scatter(adata_ds_mean, adata_ds_std, s=1)\n",
    "ax[1].set_xlabel('Mean')\n",
    "ax[1].set_ylabel('Std')\n",
    "ax[1].set_ylim(-0.02, 2.5)\n",
    "ax[1].set_xlim(-0.022, 7.5)\n",
    "\n",
    "\n",
    "plt.show()\n",
    "\n"
   ]
  },
  {
   "cell_type": "code",
   "execution_count": 108,
   "id": "789109b9",
   "metadata": {},
   "outputs": [
    {
     "data": {
      "text/plain": [
       "<12702x19701 sparse matrix of type '<class 'numpy.float32'>'\n",
       "\twith 6855509 stored elements in Compressed Sparse Row format>"
      ]
     },
     "execution_count": 108,
     "metadata": {},
     "output_type": "execute_result"
    }
   ],
   "source": [
    "adata_filt_ds.layers['downsampled']"
   ]
  },
  {
   "cell_type": "markdown",
   "id": "b4a0da0e",
   "metadata": {},
   "source": [
    "8. Which features (genes) show high variance after normalization? report the top 10 genes\n",
    "\n",
    "    Option: read about 2 of the genes\n",
    "\n",
    "    (Before: bad uninteresting genes, After: relevant feature genes)"
   ]
  },
  {
   "cell_type": "markdown",
   "id": "6c5c2ceb",
   "metadata": {},
   "source": [
    "9. Finally study the distribution of RNA counts across cells in individual columns – should it be modeled as a continuous variable? And if discrete, is it following some simple distribution? Support your analysis with figures. Bonus – support your analysis by statistical tests."
   ]
  },
  {
   "cell_type": "markdown",
   "id": "ef5531d6",
   "metadata": {},
   "source": [
    "Extra: are there ways to bring all the genes (columns / vars) into a similar distribution? Provide a scheme (no need to implement) or discuss why this is not advisable or possible.<br />\n",
    "\n",
    "Note: A simple and natural way to interpret the experiment that produced this data is as independent sampling of gene copies from a cell. Following that, it is tempting to think of rows (cells / obs) as multinomial samples (or to approximate a single gene count as a binomial variable).<br />"
   ]
  }
 ],
 "metadata": {
  "kernelspec": {
   "display_name": "aihub_env",
   "language": "python",
   "name": "aihub_env"
  },
  "language_info": {
   "codemirror_mode": {
    "name": "ipython",
    "version": 3
   },
   "file_extension": ".py",
   "mimetype": "text/x-python",
   "name": "python",
   "nbconvert_exporter": "python",
   "pygments_lexer": "ipython3",
   "version": "3.9.18"
  },
  "latex_envs": {
   "LaTeX_envs_menu_present": true,
   "autoclose": false,
   "autocomplete": true,
   "bibliofile": "biblio.bib",
   "cite_by": "apalike",
   "current_citInitial": 1,
   "eqLabelWithNumbers": true,
   "eqNumInitial": 1,
   "hotkeys": {
    "equation": "Ctrl-E",
    "itemize": "Ctrl-I"
   },
   "labels_anchors": false,
   "latex_user_defs": false,
   "report_style_numbering": false,
   "user_envs_cfg": false
  }
 },
 "nbformat": 4,
 "nbformat_minor": 5
}
