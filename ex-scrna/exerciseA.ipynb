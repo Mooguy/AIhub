{
 "cells": [
  {
   "cell_type": "markdown",
   "id": "b033a828",
   "metadata": {},
   "source": [
    "# Big data analysis using machine learning and probabilistic models \n",
    "# part A - 1D distributions"
   ]
  },
  {
   "cell_type": "markdown",
   "id": "6c7a0b57",
   "metadata": {},
   "source": [
    "### General Instructions \n",
    "Follow the instructions below to analyze the data matrix “mm_gastru_small.h5ad”. You are free to use any package or software (in Python or R). As we are practicing here data analysis, which is always done under uncertainty, you will find that in many cases you need to make hard decisions on parameters/algorithms/visualization. This is OK. There is no single “correct” solution – a perfect project will be one that conveys understanding of the underlying data using the methodologies we studied in class.<br />\n",
    "<br />\n",
    "Describe your work in:<br />\n",
    "A Jupyter notebook with explanations in markdown and comments.<br />\n",
    "Alternatively, provide A written report (pdf) with concise description of what you find, including figures (strict limit on length is 6 pages – keep figures small..). As well as your “source” code (no need to have it documented, but put sections in it per figure you are generating.<br />\n",
    "Please work alone. You are however free to discuss with fellow students regarding tools and analysis strategies. \n"
   ]
  },
  {
   "cell_type": "markdown",
   "id": "e2f39bff",
   "metadata": {},
   "source": [
    "[Presentation slides](https://www.dropbox.com/scl/fi/n9p05lfywobb87z9m8u2v/aihub_scrna_ex.pptx?rlkey=4pow0181sr4wog0wasxv2xg34&dl=0)"
   ]
  },
  {
   "cell_type": "markdown",
   "id": "09eec3d7",
   "metadata": {
    "ExecuteTime": {
     "end_time": "2023-07-03T10:56:06.061728Z",
     "start_time": "2023-07-03T10:56:05.951099Z"
    }
   },
   "source": [
    "#### A bit of biological context (for the curious and less biologically inclined) [tl;dr measures the expression of genes in cells]\n",
    "Single-cell transcriptomics examines the gene expression level of individual cells in a given population by simultaneously measuring the RNA concentration (conventionally only messenger RNA (mRNA)) of hundreds to thousands of genes. Single-cell transcriptomics makes it possible to unravel heterogeneous cell populations, reconstruct cellular developmental pathways, and model transcriptional dynamics. <br>\n",
    "Typical single-cell RNA-Seq workflow: Single cells are isolated from a sample into either wells or droplets, cDNA libraries are generated and amplified, libraries are sequenced, and expression matrices are generated for downstream analyses like cell type identification.\n",
    "![Single Cell RNA Sequencing (scRNA-seq)](https://upload.wikimedia.org/wikipedia/commons/thumb/a/aa/RNA-Seq_workflow-5.pdf/page1-800px-RNA-Seq_workflow-5.pdf.jpg)\n",
    "\n",
    "\n",
    "#### A note on sparse matrices [tl;dr matrices where most elements are zero]\n",
    "A sparse matrix or sparse array is a matrix in which most of the elements are zero. There is no strict definition regarding the proportion of zero-value elements for a matrix to qualify as sparse but a common criterion is that the number of non-zero elements is roughly equal to the number of rows or columns. By contrast, if most of the elements are non-zero, the matrix is considered dense. The number of zero-valued elements divided by the total number of elements (e.g., m × n for an m × n matrix) is sometimes referred to as the sparsity of the matrix. <br>\n",
    "#### Storing a sparse matrix [tl;dr sparse matrices are usually found in dedicated data formats]\n",
    "A matrix is typically stored as a two-dimensional array. Each entry in the array represents an element ai,j of the matrix and is accessed by the two indices i and j. Conventionally, i is the row index, numbered from top to bottom, and j is the column index, numbered from left to right. For an m × n matrix, the amount of memory required to store the matrix in this format is proportional to m × n (disregarding the fact that the dimensions of the matrix also need to be stored).<br>\n",
    "<br>\n",
    "In the case of a sparse matrix, substantial memory requirement reductions can be realized by storing only the non-zero entries. Depending on the number and distribution of the non-zero entries, different data structures can be used and yield huge savings in memory when compared to the basic approach. The trade-off is that accessing the individual elements becomes more complex and additional structures are needed to be able to recover the original matrix unambiguously. <br>"
   ]
  },
  {
   "cell_type": "markdown",
   "id": "6296235f",
   "metadata": {},
   "source": [
    "### Description of the data\n",
    "Our input is a table, depicting the number of molecules attributed to each cell and each gene. The cells are also annotated with some grouping and additional metadata. Here we sample cells from mouse embryos at gestation days 6 to 7.5, when the embryos start gastrulating - transforming from a uniform mass of cells to many different cell types with specific expertise.\n",
    "\n",
    "Raw data matrix – is a sparse matrix of integers. It indicates the number of sampled RNA molecules per gene (variables / columns) in a set of cells (observables / rows). The sparseness comes from the fact that the total number of genes in the genome is big (\\~30,000), but the total number of RNAs is not much bigger (\\~100,000), so RNA from most genes are not present in most cells. In addition, the experiment that generate the data samples only a subset of the RNA molecules in the cell (1,000-10,000).<br />\n",
    "The data is provided in the anndata format, where the matrix itself is available in the field “X” (X is the actual name of the field). Additional metadata for the rows/cols is available under obs/var fields. Note, modified X versions can be placed in “layers”.<br />\n",
    "![Data structure schematic (Anndata)](anndata_schema.png)\n",
    "Data structure schematic (Anndata)"
   ]
  },
  {
   "cell_type": "markdown",
   "id": "005422df",
   "metadata": {},
   "source": [
    "### In this stage you'll explore sparse data matrix of samples (cells) over features (genes). \n",
    "    Your overall goal is to find \"interesting\" features. \n",
    "    You will normalize samples using simple strategies and explore the distribution of features of samples"
   ]
  },
  {
   "cell_type": "markdown",
   "id": "b90c4109-32d5-4968-a536-fe3c90f025a1",
   "metadata": {},
   "source": [
    "### Imports"
   ]
  },
  {
   "cell_type": "code",
   "execution_count": null,
   "id": "284ec558",
   "metadata": {
    "ExecuteTime": {
     "end_time": "2023-07-04T06:14:16.191284Z",
     "start_time": "2023-07-04T06:14:12.935343Z"
    }
   },
   "outputs": [],
   "source": [
    "import anndata as ad\n",
    "import scanpy as sc\n",
    "#import metacells as mc\n",
    "import pandas as pd\n",
    "import numpy as np\n",
    "import sklearn as skl\n",
    "import scipy.stats\n",
    "import matplotlib.pylab as plt\n",
    "%matplotlib inline"
   ]
  },
  {
   "cell_type": "markdown",
   "id": "fcd26f08-722d-4b0f-b5e5-e287d197f09c",
   "metadata": {},
   "source": [
    "#### Download the data\n",
    "<span style=\"color: red;\">\n",
    "Download data (only when starting the tutorial for the first time):</span>"
   ]
  },
  {
   "cell_type": "code",
   "execution_count": null,
   "id": "e68ecd6f-68d1-4e4b-8dbd-16521e29b487",
   "metadata": {},
   "outputs": [],
   "source": [
    "#!wget https://embexe.s3.eu-west-1.amazonaws.com/mm_gastru_small.h5ad"
   ]
  },
  {
   "cell_type": "markdown",
   "id": "7a14e44a",
   "metadata": {},
   "source": [
    "# 1D distributions"
   ]
  },
  {
   "cell_type": "markdown",
   "id": "55ced9f7",
   "metadata": {},
   "source": [
    "## Tasks\n",
    "\n",
    "1.\tRead the raw data matrix using the anndata package (“read_h5ad” function):\n",
    "\n",
    "    a)\tHow many cells are there? How many genes? (hint: how many rows? columns?)\n",
    "    \n",
    "    b)\tWhat is the sparsity of this matrix?\n",
    "    \n",
    "    c)\tPlot a histogram of the cell (rows / obs) sums   \n",
    "            try using log\n",
    "            \n",
    "    i.e. - total sum of genes per cell, and limit the max range in the plot."
   ]
  },
  {
   "cell_type": "code",
   "execution_count": null,
   "id": "560a8c0a",
   "metadata": {},
   "outputs": [],
   "source": []
  },
  {
   "cell_type": "markdown",
   "id": "55965e71",
   "metadata": {},
   "source": [
    "2.\tWorking on the raw data matrix, study the statistical distributions of total cells (rows) sums. \n",
    "    Is it a normal distribution? perhaps log-normal? two overlaid distributions?<br>"
   ]
  },
  {
   "cell_type": "code",
   "execution_count": null,
   "id": "8fe31590",
   "metadata": {},
   "outputs": [],
   "source": []
  },
  {
   "cell_type": "markdown",
   "id": "18eff314",
   "metadata": {},
   "source": [
    "3.\tSuggest a minimal sum for the cells (rows). Under-sampled cells typically report empty samples. Remove them from the dataset."
   ]
  },
  {
   "cell_type": "code",
   "execution_count": null,
   "id": "4bdd34e9",
   "metadata": {},
   "outputs": [],
   "source": []
  },
  {
   "cell_type": "markdown",
   "id": "cb91d189",
   "metadata": {
    "ExecuteTime": {
     "end_time": "2023-07-04T06:12:33.765540Z",
     "start_time": "2023-07-04T06:12:33.762801Z"
    }
   },
   "source": [
    "4.\tWorking on the cleaned data matrix, study the statistical distributions of total genes (columns) sums."
   ]
  },
  {
   "cell_type": "code",
   "execution_count": null,
   "id": "c71994e9",
   "metadata": {},
   "outputs": [],
   "source": []
  },
  {
   "cell_type": "markdown",
   "id": "3b7901bc",
   "metadata": {},
   "source": [
    "5. Which features show high variance? report top 10 genes"
   ]
  },
  {
   "cell_type": "code",
   "execution_count": null,
   "id": "a149698a",
   "metadata": {},
   "outputs": [],
   "source": []
  },
  {
   "cell_type": "markdown",
   "id": "fcec4637",
   "metadata": {},
   "source": [
    "6. normalize samples by their coverage"
   ]
  },
  {
   "cell_type": "code",
   "execution_count": null,
   "id": "cac87c6e",
   "metadata": {},
   "outputs": [],
   "source": []
  },
  {
   "cell_type": "markdown",
   "id": "26bbe199",
   "metadata": {},
   "source": [
    "5.\tThe down-sampled matrix – is the raw data matrix in which each column (cell) where sufficient RNA count is normalized probabilistically. For example, sampling exactly 1000 RNAs from the cell. This is the matrix you should generally work with. Down-sample the matrix and perform a similar analysis on the distribution of total gene sums.\n",
    "  \n",
    "    Use either scanpy or metacells packages for downsampling .\n",
    "    "
   ]
  },
  {
   "cell_type": "code",
   "execution_count": null,
   "id": "d10b5dfc",
   "metadata": {},
   "outputs": [],
   "source": []
  },
  {
   "cell_type": "markdown",
   "id": "aeb301b9",
   "metadata": {},
   "source": [
    "7. Plot standard deviation vs. Mean on the two normed matrices"
   ]
  },
  {
   "cell_type": "code",
   "execution_count": null,
   "id": "9abaddd2",
   "metadata": {},
   "outputs": [],
   "source": []
  },
  {
   "cell_type": "markdown",
   "id": "b4a0da0e",
   "metadata": {},
   "source": [
    "8. Which features (genes) show high variance after normalization? report the top 10 genes\n",
    "\n",
    "    Option: read about 2 of the genes\n",
    "\n",
    "    (Before: bad uninteresting genes, After: relevant feature genes)"
   ]
  },
  {
   "cell_type": "markdown",
   "id": "6c5c2ceb",
   "metadata": {},
   "source": [
    "9. Finally study the distribution of RNA counts across cells in individual columns – should it be modeled as a continuous variable? And if discrete, is it following some simple distribution? Support your analysis with figures. Bonus – support your analysis by statistical tests."
   ]
  },
  {
   "cell_type": "code",
   "execution_count": null,
   "id": "96605131",
   "metadata": {},
   "outputs": [],
   "source": []
  },
  {
   "cell_type": "markdown",
   "id": "ef5531d6",
   "metadata": {},
   "source": [
    "Extra: are there ways to bring all the genes (columns / vars) into a similar distribution? Provide a scheme (no need to implement) or discuss why this is not advisable or possible.<br />\n",
    "\n",
    "Note: A simple and natural way to interpret the experiment that produced this data is as independent sampling of gene copies from a cell. Following that, it is tempting to think of rows (cells / obs) as multinomial samples (or to approximate a single gene count as a binomial variable).<br />"
   ]
  }
 ],
 "metadata": {
  "kernelspec": {
   "display_name": "Python 3 (ipykernel)",
   "language": "python",
   "name": "python3"
  },
  "language_info": {
   "codemirror_mode": {
    "name": "ipython",
    "version": 3
   },
   "file_extension": ".py",
   "mimetype": "text/x-python",
   "name": "python",
   "nbconvert_exporter": "python",
   "pygments_lexer": "ipython3",
   "version": "3.9.5"
  },
  "latex_envs": {
   "LaTeX_envs_menu_present": true,
   "autoclose": false,
   "autocomplete": true,
   "bibliofile": "biblio.bib",
   "cite_by": "apalike",
   "current_citInitial": 1,
   "eqLabelWithNumbers": true,
   "eqNumInitial": 1,
   "hotkeys": {
    "equation": "Ctrl-E",
    "itemize": "Ctrl-I"
   },
   "labels_anchors": false,
   "latex_user_defs": false,
   "report_style_numbering": false,
   "user_envs_cfg": false
  }
 },
 "nbformat": 4,
 "nbformat_minor": 5
}
