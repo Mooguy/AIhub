{
 "cells": [
  {
   "cell_type": "markdown",
   "id": "a781efb2",
   "metadata": {},
   "source": [
    "# Big data analysis using machine learning and probabilistic models \n",
    "# part B - 2D distributions (pairs of cells / genes)"
   ]
  },
  {
   "cell_type": "markdown",
   "id": "73b61e01",
   "metadata": {},
   "source": [
    "### General Instructions \n",
    "Follow the instructions below to analyze the data matrix “mm_gastru_small.h5ad”. You are free to use any package or software (in Python or R). As we are practicing here data analysis, which is always done under uncertainty, you will find that in many cases you need to make hard decisions on parameters/algorithms/visualization. This is OK. There is no single “correct” solution – a perfect project will be one that conveys understanding of the underlying data using the methodologies we studied.<br />\n",
    "<br />\n",
    "Describe your work in:<br />\n",
    "A Jupyter notebook with explanations in markdown and comments.<br />\n",
    "Alternatively, provide A written report (pdf) with concise description of what you find, including figures (strict limit on length is 6 pages – keep figures small..). As well as your “source” code (no need to have it documented, but put sections in it per figure you are generating.<br />\n",
    "Please work alone. You are however free to discuss with fellow students regarding tools and analysis strategies. \n"
   ]
  },
  {
   "cell_type": "markdown",
   "id": "3c9ebabb",
   "metadata": {},
   "source": [
    "### ExerciseB: In this stage you'll explorer the notion of correlation between features and how to identify groups of correlated features"
   ]
  },
  {
   "cell_type": "code",
   "execution_count": null,
   "id": "f9978c4d",
   "metadata": {
    "ExecuteTime": {
     "end_time": "2023-07-18T17:44:48.687100Z",
     "start_time": "2023-07-18T17:44:21.206545Z"
    }
   },
   "outputs": [],
   "source": [
    "import anndata as ad\n",
    "import scanpy as sc\n",
    "# import metacells as mc\n",
    "import pandas as pd\n",
    "import numpy as np\n",
    "import sklearn as skl\n",
    "import scipy.stats\n",
    "import matplotlib.pylab as plt"
   ]
  },
  {
   "cell_type": "markdown",
   "id": "a687e6f9",
   "metadata": {},
   "source": [
    "# 2D distributions (pairs of cells / genes)"
   ]
  },
  {
   "cell_type": "markdown",
   "id": "6b60d546",
   "metadata": {},
   "source": [
    "[We continue with the cleaned and downsampled matrices from the previous section]"
   ]
  },
  {
   "cell_type": "markdown",
   "id": "6e94edaf",
   "metadata": {},
   "source": [
    "## Tasks\n",
    "\n",
    "1.\tPlot scatters of all the genes for a single pair of cells\n",
    "    Run through several such scatters, for example the cells \"190307_P10.190307_P10350\" and \"190313_P12.190313_P12102”\n"
   ]
  },
  {
   "cell_type": "code",
   "execution_count": null,
   "id": "30e5f304",
   "metadata": {},
   "outputs": [],
   "source": []
  },
  {
   "cell_type": "markdown",
   "id": "5f2aa3ee",
   "metadata": {},
   "source": [
    "2.  Plot all the cells for a single pair of genes. \n",
    "    Run through several such scatters, for example the genes “Pou5f1” and “Dnm53b” "
   ]
  },
  {
   "cell_type": "code",
   "execution_count": null,
   "id": "5b5cca44",
   "metadata": {},
   "outputs": [],
   "source": []
  },
  {
   "cell_type": "markdown",
   "id": "6de1e6d3",
   "metadata": {},
   "source": [
    "3.  Sample and calculate correlations between cells / genes \n",
    "    for example “Pou5f1” and “Dnmt3b” "
   ]
  },
  {
   "cell_type": "code",
   "execution_count": null,
   "id": "e0de0f51",
   "metadata": {},
   "outputs": [],
   "source": []
  },
  {
   "cell_type": "markdown",
   "id": "c67dba2d",
   "metadata": {},
   "source": [
    "4.  Plot the distributions of these correlations. \n",
    "    How do the correlations of the raw data and down-sampled data compare?"
   ]
  },
  {
   "cell_type": "code",
   "execution_count": null,
   "id": "ae71c71c",
   "metadata": {},
   "outputs": [],
   "source": []
  },
  {
   "cell_type": "markdown",
   "id": "ff5bb395",
   "metadata": {},
   "source": [
    "5.  Compute a cell-to-cell correlation matrix \n",
    "    (for efficiency, use “numpy.corrcoef”) "
   ]
  },
  {
   "cell_type": "code",
   "execution_count": null,
   "id": "ddb88a83",
   "metadata": {},
   "outputs": [],
   "source": []
  },
  {
   "cell_type": "markdown",
   "id": "3ec071e3",
   "metadata": {},
   "source": [
    "6. Find the top correlated gene for each gene : using pearson on <b>un</b>-normalized mat, pearson, pearson(log), spearman \n",
    "\n",
    "    show scatter plots\n",
    "    compare to feature mean\n",
    "         show cor needs depth\n",
    "    repeat on the normalized mat - Is there a difference?\n",
    "    Repeat on the downsampled mat - Is there a difference?"
   ]
  },
  {
   "cell_type": "code",
   "execution_count": null,
   "id": "54bdac3f",
   "metadata": {},
   "outputs": [],
   "source": []
  },
  {
   "cell_type": "markdown",
   "id": "f8ee66a2",
   "metadata": {},
   "source": [
    "7. Plot Heat map of correlations on high variance genes (try to use seaborn clusermap)"
   ]
  },
  {
   "cell_type": "code",
   "execution_count": null,
   "id": "62168b3e",
   "metadata": {},
   "outputs": [],
   "source": []
  },
  {
   "cell_type": "markdown",
   "id": "cd505f05",
   "metadata": {},
   "source": [
    "8.  Decide on a reasonable statistical test for comparing cells and visualize the distribution of derived statistics\n",
    "    e.g. if you are doing linear correlation, show the distribution of the R coefficients (Pearson coefficient). \n",
    "    Discuss the statistical significance of the test for correlation between two cells, including the multiple-testing effect."
   ]
  },
  {
   "cell_type": "code",
   "execution_count": null,
   "id": "ce3eab19",
   "metadata": {},
   "outputs": [],
   "source": []
  },
  {
   "cell_type": "markdown",
   "id": "0af1c3e3",
   "metadata": {},
   "source": [
    "9.  Consider the pair of cells \"190307_P10.190307_P10350\" and \"190313_P12.190313_P12102\", are they more similar than average?"
   ]
  },
  {
   "cell_type": "code",
   "execution_count": null,
   "id": "4dd53703",
   "metadata": {},
   "outputs": [],
   "source": []
  },
  {
   "cell_type": "markdown",
   "id": "c0e2011a",
   "metadata": {},
   "source": [
    "9.\tWhat are the most correlated genes? Cells?"
   ]
  },
  {
   "cell_type": "code",
   "execution_count": null,
   "id": "de4cad7b",
   "metadata": {},
   "outputs": [],
   "source": []
  },
  {
   "cell_type": "markdown",
   "id": "17f4f1f1",
   "metadata": {},
   "source": [
    "10.  Compute FDR (False Discovery Rate) to estimate how much of the signal is significant. Repeat the same computations with the matrix after replacing each value x by log(1+x) and normalizing columns such that their sums are 0. Discuss the reasons for the differences between the outcomes. "
   ]
  },
  {
   "cell_type": "code",
   "execution_count": null,
   "id": "e4c48226",
   "metadata": {},
   "outputs": [],
   "source": []
  },
  {
   "cell_type": "markdown",
   "id": "073ac4fd",
   "metadata": {},
   "source": [
    "Extra: find a reasonable way to shuffle the matrix and compare the correlations on the real matrix to the shuffled one. What structures in the matrix should your reshuffling strategy conserve? Which should be eliminated?\n",
    "Hint reading? : https://mathworld.wolfram.com/CorrelationCoefficient.html \n"
   ]
  }
 ],
 "metadata": {
  "kernelspec": {
   "display_name": "Python 3 (ipykernel)",
   "language": "python",
   "name": "python3"
  },
  "language_info": {
   "codemirror_mode": {
    "name": "ipython",
    "version": 3
   },
   "file_extension": ".py",
   "mimetype": "text/x-python",
   "name": "python",
   "nbconvert_exporter": "python",
   "pygments_lexer": "ipython3",
   "version": "3.9.5"
  },
  "latex_envs": {
   "LaTeX_envs_menu_present": true,
   "autoclose": false,
   "autocomplete": true,
   "bibliofile": "biblio.bib",
   "cite_by": "apalike",
   "current_citInitial": 1,
   "eqLabelWithNumbers": true,
   "eqNumInitial": 1,
   "hotkeys": {
    "equation": "Ctrl-E",
    "itemize": "Ctrl-I"
   },
   "labels_anchors": false,
   "latex_user_defs": false,
   "report_style_numbering": false,
   "user_envs_cfg": false
  }
 },
 "nbformat": 4,
 "nbformat_minor": 5
}
