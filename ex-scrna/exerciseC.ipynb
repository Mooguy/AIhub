{
 "cells": [
  {
   "cell_type": "markdown",
   "id": "62f05145",
   "metadata": {},
   "source": [
    "# Big data analysis using machine learning and probabilistic models \n",
    "# part C - Multivariate"
   ]
  },
  {
   "cell_type": "markdown",
   "id": "0ce6ed74",
   "metadata": {},
   "source": [
    "### General Instructions \n",
    "Follow the instructions below to analyze the data matrix “mm_gastru_small.h5ad”. You are free to use any package or software (in Python or R). As we are practicing here data analysis, which is always done under uncertainty, you will find that in many cases you need to make hard decisions on parameters/algorithms/visualization. This is OK. There is no single “correct” solution – a perfect project will be one that conveys understanding of the underlying data using the methodologies we studied in class.<br />\n",
    "<br />\n",
    "Describe your work in:<br />\n",
    "A Jupyter notebook with explanations in markdown and comments.<br />\n",
    "Alternatively, provide A written report (pdf) with concise description of what you find, including figures (strict limit on length is 6 pages – keep figures small..). As well as your “source” code (no need to have it documented, but put sections in it per figure you are generating.<br />\n",
    "Please work alone. You are however free to discuss with fellow students regarding tools and analysis strategies. \n"
   ]
  },
  {
   "cell_type": "code",
   "execution_count": null,
   "id": "ace8fe38",
   "metadata": {},
   "outputs": [],
   "source": [
    "import anndata as ad\n",
    "import scanpy as sc\n",
    "# import metacells as mc\n",
    "import pandas as pd\n",
    "import numpy as np\n",
    "from sklearn as skl\n",
    "import scipy.stats\n",
    "import matplotlib.pylab as plt"
   ]
  },
  {
   "cell_type": "markdown",
   "id": "a753cbe7",
   "metadata": {},
   "source": [
    "# Multivariate (groups of cells / genes)\n",
    "## Selection of feature genes – choose a small (~1000) subset of relevant genes\n",
    "\n",
    "“Features” in this sense would be genes that are useful for explaining the cells behavior, non-empty, not noisy, differentially expressed (and not lateral, but this last definition is currently beyond our current scope)"
   ]
  },
  {
   "cell_type": "markdown",
   "id": "215b15ad",
   "metadata": {},
   "source": [
    "1.  Plot gene variance VS gene mean expression\n",
    "    Explain the trend, how might this effect feature selection?"
   ]
  },
  {
   "cell_type": "code",
   "execution_count": null,
   "id": "d3765ccd",
   "metadata": {},
   "outputs": [],
   "source": []
  },
  {
   "cell_type": "markdown",
   "id": "df088a12",
   "metadata": {},
   "source": [
    "2.\tPlot the relative variance (var/mean) VS mean expression\n",
    "    Explain the behavior at low mean values"
   ]
  },
  {
   "cell_type": "code",
   "execution_count": null,
   "id": "00347a3a",
   "metadata": {},
   "outputs": [],
   "source": []
  },
  {
   "cell_type": "markdown",
   "id": "6328442e",
   "metadata": {},
   "source": [
    "3.\tSuggest a feature selection criterion and explain its reasoning"
   ]
  },
  {
   "cell_type": "code",
   "execution_count": null,
   "id": "1fa4af6e",
   "metadata": {},
   "outputs": [],
   "source": []
  },
  {
   "cell_type": "markdown",
   "id": "e53dc626",
   "metadata": {},
   "source": [
    "4.\tCreate a data set with only the selected feature gene for use in the following sections"
   ]
  },
  {
   "cell_type": "code",
   "execution_count": null,
   "id": "8b9c8e63",
   "metadata": {},
   "outputs": [],
   "source": []
  },
  {
   "cell_type": "markdown",
   "id": "7c15fb88",
   "metadata": {},
   "source": [
    "5.\tOptional: compare your selected features with an external method (metacells’ for example). Is there a substantial overlap?"
   ]
  },
  {
   "cell_type": "code",
   "execution_count": null,
   "id": "f5834485",
   "metadata": {},
   "outputs": [],
   "source": []
  },
  {
   "cell_type": "markdown",
   "id": "d6d1e355",
   "metadata": {},
   "source": [
    "Hint: https://tanaylab.github.io/metacell/articles/a-basic_pbmc8k.html\n",
    "\n",
    "Extra: Perform and discuss cross validation for these models. "
   ]
  },
  {
   "cell_type": "code",
   "execution_count": null,
   "id": "7697b331",
   "metadata": {},
   "outputs": [],
   "source": []
  },
  {
   "cell_type": "markdown",
   "id": "5be82ebf",
   "metadata": {},
   "source": [
    "## Perform clustering on the rows (cells).\n",
    "\n",
    "<span style=\"color: red;\">Note: If any computation you attempt lasts longer than 5 seconds, kill it. </span>\n",
    "\n",
    "You may sample a small number of cells (~1000) for the following tasks."
   ]
  },
  {
   "cell_type": "markdown",
   "id": "a72bb1c8",
   "metadata": {},
   "source": [
    "6.  K-means – how did you choose k?"
   ]
  },
  {
   "cell_type": "code",
   "execution_count": null,
   "id": "e530800c",
   "metadata": {},
   "outputs": [],
   "source": []
  },
  {
   "cell_type": "markdown",
   "id": "d72a3b1e",
   "metadata": {},
   "source": [
    "7.  Hierarchical clustering – what is your method of choice? Why?"
   ]
  },
  {
   "cell_type": "code",
   "execution_count": null,
   "id": "4c78b55a",
   "metadata": {},
   "outputs": [],
   "source": []
  },
  {
   "cell_type": "markdown",
   "id": "d38063c8",
   "metadata": {},
   "source": [
    "8.  Overlay the resulting k-means clusters on the Hierarchical clustering tree – Is it a good match?"
   ]
  },
  {
   "cell_type": "code",
   "execution_count": null,
   "id": "7bdf3a0a",
   "metadata": {},
   "outputs": [],
   "source": []
  },
  {
   "cell_type": "markdown",
   "id": "ee18e01e",
   "metadata": {},
   "source": [
    "9.  Visualize a sample of your correlations from section 2, ordered according to your clustering. Also visualize the clustered matrix in a heat map (you can order the genes as well to get a better picture). Is this visualization appropriate? Does it indicate that clustering is “bad”?"
   ]
  },
  {
   "cell_type": "code",
   "execution_count": null,
   "id": "e539faa0",
   "metadata": {},
   "outputs": [],
   "source": []
  },
  {
   "cell_type": "markdown",
   "id": "a1afc0aa",
   "metadata": {},
   "source": [
    "10. Finally find for each cluster the 10 cols (genes) that separate it best from the other clusters. Assign the selected genes statistical significance."
   ]
  },
  {
   "cell_type": "markdown",
   "id": "3657952c",
   "metadata": {},
   "source": [
    "## Embed the cells (rows) representation over the feature genes in 2D"
   ]
  },
  {
   "cell_type": "markdown",
   "id": "699b2838",
   "metadata": {},
   "source": [
    "11. Attempt UMAP and PCA"
   ]
  },
  {
   "cell_type": "code",
   "execution_count": null,
   "id": "2b333ed0",
   "metadata": {},
   "outputs": [],
   "source": []
  },
  {
   "cell_type": "markdown",
   "id": "dce54279",
   "metadata": {},
   "source": [
    "12. Compute a Knn graph for the cells (rows) and overlay its edges on the 2D representation. What is the meaning of long edges?"
   ]
  },
  {
   "cell_type": "code",
   "execution_count": null,
   "id": "0db1b5a4",
   "metadata": {},
   "outputs": [],
   "source": []
  },
  {
   "cell_type": "markdown",
   "id": "78a84d71",
   "metadata": {},
   "source": [
    "*There are cell type and color annotations the cells metadata, consider adding those to your plots"
   ]
  }
 ],
 "metadata": {
  "kernelspec": {
   "display_name": "Python 3 (ipykernel)",
   "language": "python",
   "name": "python3"
  },
  "language_info": {
   "codemirror_mode": {
    "name": "ipython",
    "version": 3
   },
   "file_extension": ".py",
   "mimetype": "text/x-python",
   "name": "python",
   "nbconvert_exporter": "python",
   "pygments_lexer": "ipython3",
   "version": "3.9.5"
  },
  "latex_envs": {
   "LaTeX_envs_menu_present": true,
   "autoclose": false,
   "autocomplete": true,
   "bibliofile": "biblio.bib",
   "cite_by": "apalike",
   "current_citInitial": 1,
   "eqLabelWithNumbers": true,
   "eqNumInitial": 1,
   "hotkeys": {
    "equation": "Ctrl-E",
    "itemize": "Ctrl-I"
   },
   "labels_anchors": false,
   "latex_user_defs": false,
   "report_style_numbering": false,
   "user_envs_cfg": false
  }
 },
 "nbformat": 4,
 "nbformat_minor": 5
}
