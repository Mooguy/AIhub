{
 "cells": [
  {
   "cell_type": "markdown",
   "id": "a34222f2",
   "metadata": {
    "id": "0f2380f5"
   },
   "source": [
    "# Introduction tutorial to Deep Learning"
   ]
  },
  {
   "cell_type": "markdown",
   "id": "6c5b2e51",
   "metadata": {
    "id": "ad7c1172"
   },
   "source": [
    "In this excercise, you will implement a 1-layer fully connected network to map images of digits to their numerical value.\n",
    "The questions appear in increasing difficulty levels.\n",
    " \n",
    "A fully connected layer is essentialy similar to linear regression, where we find weights (w) that by multiplying the input will output the expected prediction.\n",
    "Below is an example of one fully connected layer:\n",
    "<div>\n",
    "<img src=\"attachment:image-3.png\" width=\"350\"/>\n",
    "    <div align=\"right\">\n",
    "    <i>image credit <a href=https://www.baeldung.com/cs/neural-networks-conv-fc-layers>https://www.baeldung.com/cs/neural-networks-conv-fc-layers</a></i></div>\n",
    "</div>\n",
    "\n",
    "In the image above:\n",
    "- the input layer would be the feature we have in our data $(x_i)$\n",
    "- the output layer represent a linear combination of the input features. each node represent a new feature we can generate from the given features.  $(y_i)$\n",
    "- the edges are the weights of the linear combination. Observe that each node in the output layer is a different combintaion of the input features. (Each node is connected with some weights to all of the input's node. hence the name \"fully connected\").\n",
    "\n",
    "Another way to represent this is refering to the weights as matrix W and so we get: $Y=W*X$.\n",
    "\n",
    "\n",
    "You might ask yourself what makes Neural Network so speciel? One of the answer is the use of non-linear layer between linear layers. Meaning that instead of just calculating $W*X$ we calculate $f(W*X)$ where $f$ is a non-linear function. The most commonly used non-linear functions are: tanh, sigmoid, relu, etc.\n",
    "\n",
    "The <i>\"Deep learning\"</i> part comes from stacking multiple linear layers with non-linear function in-between. Note that stacking only linear layers without non-linear function in between is equal to one linear layer. ($Y=W_n*...*W_1*X=W*X$).\n",
    "\n",
    "More layers &rarr; Deeper the network &rarr; More complex feature the netwrok can learn.  \n",
    "\n",
    "\n",
    "<div>\n",
    "<img src=\"attachment:image-4.png\" width=\"350\"/>\n",
    "    <div align=\"right\">\n",
    "    <i>image credit <a href=https://www.oreilly.com/library/view/tensorflow-for-deep/9781491980446/ch04.html>https://www.oreilly.com/library/view/tensorflow-for-deep/9781491980446/ch04.html</a></i></div>\n",
    "</div>\n"
   ]
  },
  {
   "cell_type": "markdown",
   "id": "1f9c0048",
   "metadata": {},
   "source": [
    "<b>But</b> how do we find those weights (W)?\n",
    "We use a labeled dataset to train an optimization problem where we try to minimize some loss function. The loss function will be a function of the weights and the ground truth labels.\n",
    "\n",
    "$Loss(f_W(X), GT)$ where $X$ - input features, $f_W(X)$ - the output of the network, $GT$ - the ground truth\n",
    "\n",
    "Usually we solve this with some gradient descent based approch, for example: SGD, Adam and more.\n",
    "\n",
    "In this tutorial you will learn how to classify digits based on the their images with a small neural network. We will use pytorch to implement and train the model and you will be guided through all the steps of the optamization problem."
   ]
  },
  {
   "cell_type": "markdown",
   "id": "fe0a77d1",
   "metadata": {},
   "source": [
    "## Here are some few useful links:\n",
    "\n",
    "* <a href=https://medium.com/@sadafsaleem5815/neural-networks-in-10mins-simply-explained-9ec2ad9ea815> Blog post on neural networks </a>\n",
    "\n",
    "* A pytorch guide for basic model - https://pytorch.org/tutorials/beginner/blitz/cifar10_tutorial.html. Very similar to this tutorial. Highly recommended to go over if you struggle.\n",
    "\n",
    "* Some short data science courses, including intro to Python and Machine learning, can be found on Kaggle\n",
    "\n",
    "* Link to HPC\\AI hub wiki: https://hpcwiki.weizmann.ac.il/en/home/ai_hub\n",
    "\n",
    "* Link to our WEXAC Jupiter hub (you'll need a WEXAC user): https://access.wexac.weizmann.ac.il:8000/hub/login (choose the GPU option for deep learning tutorials)\n",
    "\n",
    "* Define the aihub_env enviroment in the Jupiter hub, follow the wiki instuctions: https://hpcwiki.weizmann.ac.il/en/home/ai_hub#h-31-opening-a-jupiter-hub-session-and-setting-the-conda-environment-aihub_env \n",
    "\n",
    "* PyTorch, a deep learning framework which we will use for the coding exercises. For additional information, you can see the lecture from DL4CV (Deep Learning for Computer Vision) course Introduction to PyTorch 2021: https://www.youtube.com/watch?v=hQf6vvn6LGo or Pytorch getting started: https://pytorch.org/tutorials/beginner/basics/intro.html"
   ]
  },
  {
   "cell_type": "markdown",
   "id": "64359e61",
   "metadata": {
    "id": "27102d3d"
   },
   "source": [
    "## The Excercise\n",
    "Follow the instructions in the following boxes\n",
    "Lines that contain \"pass\" commands and variables set to \"None\" should be replaced by your answers"
   ]
  },
  {
   "cell_type": "markdown",
   "id": "4d8c3b99",
   "metadata": {},
   "source": [
    "### Part 1: Imports, loading MNIST data, data loaders\n",
    "\n",
    "In the following cell you will add the needed imports."
   ]
  },
  {
   "cell_type": "code",
   "execution_count": 25,
   "id": "ad99b20e",
   "metadata": {
    "id": "b0ea6722",
    "scrolled": true
   },
   "outputs": [],
   "source": [
    "# Question 1  : Write import statements for:\n",
    "#Imports:\n",
    "import torch\n",
    "import torchvision.transforms as transforms\n",
    "from torchvision.datasets import MNIST\n",
    "from torch.utils.data import DataLoader\n"
   ]
  },
  {
   "cell_type": "code",
   "execution_count": 26,
   "id": "52d680ad",
   "metadata": {
    "colab": {
     "base_uri": "https://localhost:8080/"
    },
    "id": "fcb793a1",
    "outputId": "7c0a9469-c1c9-4d2b-89d7-fc3287ca6ba0"
   },
   "outputs": [
    {
     "name": "stdout",
     "output_type": "stream",
     "text": [
      "CUDA is available!\n"
     ]
    }
   ],
   "source": [
    "# Question 2.1: check for cuda (GPU usage) availability\n",
    "if torch.cuda.is_available():\n",
    "    print(\"CUDA is available!\")\n",
    "\n",
    "# Question 2.2: define the device (\"torch.device\" class instance) used for storing training data and models\n",
    "# Requirements: device type should depend on cuda availability!\n",
    "device = torch.device(\"cuda\" if torch.cuda.is_available() else \"cpu\")\n",
    "\n",
    "# Optional: memory pinning is a technical detail related to working with GPU - recommended parameter for dataloader\n",
    "#pin_memory_flag: bool = device.type == 'cuda'\n",
    "pin_memory_flag = device.type == 'cuda'\n",
    "#This sends the next batch to GPU from the CPU while the GPU is processing the current batch. This is done to speed up the process.\n"
   ]
  },
  {
   "cell_type": "markdown",
   "id": "3964d845",
   "metadata": {},
   "source": [
    "In the following cell you will load the MNIST dataset. \n",
    "* MNIST is a labeled data consisting pairs of drawn digits and their numerical value.\n",
    "\n",
    "First, you will create a Dataset obejct using \"torchvision.datasets\" for training and validating. This object will hold the data for training and validating the model."
   ]
  },
  {
   "cell_type": "code",
   "execution_count": 27,
   "id": "2f75b6f1",
   "metadata": {
    "id": "_Rpu48lwR5b_"
   },
   "outputs": [
    {
     "name": "stdout",
     "output_type": "stream",
     "text": [
      "Downloading http://yann.lecun.com/exdb/mnist/train-images-idx3-ubyte.gz\n",
      "Failed to download (trying next):\n",
      "HTTP Error 403: Forbidden\n",
      "\n",
      "Downloading https://ossci-datasets.s3.amazonaws.com/mnist/train-images-idx3-ubyte.gz\n",
      "Downloading https://ossci-datasets.s3.amazonaws.com/mnist/train-images-idx3-ubyte.gz to ./root/MNIST/raw/train-images-idx3-ubyte.gz\n"
     ]
    },
    {
     "name": "stderr",
     "output_type": "stream",
     "text": [
      "100%|█████████████████████████████████████████████████████████████████████████████████████████████████████████████████████████████████| 9.91M/9.91M [00:01<00:00, 5.02MB/s]\n"
     ]
    },
    {
     "name": "stdout",
     "output_type": "stream",
     "text": [
      "Extracting ./root/MNIST/raw/train-images-idx3-ubyte.gz to ./root/MNIST/raw\n",
      "\n",
      "Downloading http://yann.lecun.com/exdb/mnist/train-labels-idx1-ubyte.gz\n",
      "Failed to download (trying next):\n",
      "HTTP Error 403: Forbidden\n",
      "\n",
      "Downloading https://ossci-datasets.s3.amazonaws.com/mnist/train-labels-idx1-ubyte.gz\n",
      "Downloading https://ossci-datasets.s3.amazonaws.com/mnist/train-labels-idx1-ubyte.gz to ./root/MNIST/raw/train-labels-idx1-ubyte.gz\n"
     ]
    },
    {
     "name": "stderr",
     "output_type": "stream",
     "text": [
      "100%|██████████████████████████████████████████████████████████████████████████████████████████████████████████████████████████████████| 28.9k/28.9k [00:00<00:00, 190kB/s]\n"
     ]
    },
    {
     "name": "stdout",
     "output_type": "stream",
     "text": [
      "Extracting ./root/MNIST/raw/train-labels-idx1-ubyte.gz to ./root/MNIST/raw\n",
      "\n",
      "Downloading http://yann.lecun.com/exdb/mnist/t10k-images-idx3-ubyte.gz\n",
      "Failed to download (trying next):\n",
      "HTTP Error 403: Forbidden\n",
      "\n",
      "Downloading https://ossci-datasets.s3.amazonaws.com/mnist/t10k-images-idx3-ubyte.gz\n",
      "Downloading https://ossci-datasets.s3.amazonaws.com/mnist/t10k-images-idx3-ubyte.gz to ./root/MNIST/raw/t10k-images-idx3-ubyte.gz\n"
     ]
    },
    {
     "name": "stderr",
     "output_type": "stream",
     "text": [
      "100%|█████████████████████████████████████████████████████████████████████████████████████████████████████████████████████████████████| 1.65M/1.65M [00:01<00:00, 1.56MB/s]\n"
     ]
    },
    {
     "name": "stdout",
     "output_type": "stream",
     "text": [
      "Extracting ./root/MNIST/raw/t10k-images-idx3-ubyte.gz to ./root/MNIST/raw\n",
      "\n",
      "Downloading http://yann.lecun.com/exdb/mnist/t10k-labels-idx1-ubyte.gz\n",
      "Failed to download (trying next):\n",
      "HTTP Error 403: Forbidden\n",
      "\n",
      "Downloading https://ossci-datasets.s3.amazonaws.com/mnist/t10k-labels-idx1-ubyte.gz\n",
      "Downloading https://ossci-datasets.s3.amazonaws.com/mnist/t10k-labels-idx1-ubyte.gz to ./root/MNIST/raw/t10k-labels-idx1-ubyte.gz\n"
     ]
    },
    {
     "name": "stderr",
     "output_type": "stream",
     "text": [
      "100%|█████████████████████████████████████████████████████████████████████████████████████████████████████████████████████████████████| 4.54k/4.54k [00:00<00:00, 4.63MB/s]\n"
     ]
    },
    {
     "name": "stdout",
     "output_type": "stream",
     "text": [
      "Extracting ./root/MNIST/raw/t10k-labels-idx1-ubyte.gz to ./root/MNIST/raw\n",
      "\n"
     ]
    }
   ],
   "source": [
    "# Question 3.1: load the MNIST dataset using the \"MNIST\"\n",
    "# Requirements: Create a train and validation datasets and make sure they are distinct\n",
    "#               When initializing an instance of \"MNIST\":\n",
    "#               Set the directory to which the data is downloaded to to be './root'\n",
    "#               Set the \"transform\" argument to be the \"dataset_transform\" callable\n",
    "#               Create training and validation sets using the \"train\" argument\n",
    "#               Use the \"dataset_transform\" callable to resize all images be 16X16 pixels\n",
    "\n",
    "\n",
    "\n",
    "dataset_transform = transforms.Compose([\n",
    "    transforms.Resize((16, 16)),\n",
    "    transforms.ToTensor(),\n",
    "    transforms.Normalize((0.1307,), (0.3081,))\n",
    "])\n",
    "\n",
    "#Set directory to which the data is downloaded to be './root'\n",
    "root = './root'\n",
    "train_dataset = MNIST(root=root, train=True, transform=dataset_transform, download=True)\n",
    "test_dataset = MNIST(root=root, train=False, transform=dataset_transform, download=True)"
   ]
  },
  {
   "cell_type": "code",
   "execution_count": 28,
   "id": "c85850ef",
   "metadata": {
    "id": "2i2dYKmBqK9l"
   },
   "outputs": [
    {
     "data": {
      "text/plain": [
       "torch.Size([1, 16, 16])"
      ]
     },
     "execution_count": 28,
     "metadata": {},
     "output_type": "execute_result"
    }
   ],
   "source": [
    "# Question 3.2: Check if the data transform works:\n",
    "img, label = train_dataset[0]\n",
    "img.shape"
   ]
  },
  {
   "cell_type": "markdown",
   "id": "2ae6c963",
   "metadata": {},
   "source": [
    "In the following cell you will define our model:"
   ]
  },
  {
   "cell_type": "code",
   "execution_count": 29,
   "id": "a3a0f20d",
   "metadata": {
    "id": "JujReUHMmfHv"
   },
   "outputs": [],
   "source": [
    "# Question 4.1: Define a linear model:\n",
    "# Requirements: define a class that inherits from torch.nn.Module\n",
    "#               construct a model with 1 fully connected layer\n",
    "class NeuralNetwork(torch.nn.Module):\n",
    "    def __init__(self, image_num_pix: int, num_classes: int):\n",
    "        \"\"\"\n",
    "        Parameters\n",
    "        ----------\n",
    "        image_num_pix : number of pixels in image\n",
    "        num_classes   : number of classes\n",
    "        \"\"\"\n",
    "\n",
    "        # Initialize as any other torch.nn.Module\n",
    "        super(NeuralNetwork, self).__init__()\n",
    "        # Define attributes\n",
    "        # Technical overhead: Save number of pixels to reshape images into vectors\n",
    "        self.in_features = image_num_pix\n",
    "        # Define the fully connected layer\n",
    "        self.lyr1 = torch.nn.Linear(in_features=self.in_features, out_features=num_classes)\n",
    "\n",
    "    def forward(self, img: torch.Tensor) -> torch.Tensor:\n",
    "        # Technical overhead: Used to reshape to avoid RuntimeError when processing 2D data\n",
    "        img_1 = torch.reshape(img, (img.shape[0], self.in_features))\n",
    "        # Calculate forward pass using reshape image (\"img_1\") as input\n",
    "        output = self.lyr1(img_1)\n",
    "        return output\n",
    "\n",
    "\n",
    "# Parameters\n",
    "num_classes = 10\n",
    "# Question 4.2: Construct model\n",
    "image_num_pix = 16 * 16\n",
    "model = NeuralNetwork(image_num_pix=image_num_pix, num_classes=num_classes)\n",
    "# Question 4.3: move model to device\n",
    "model = model.to(device=device)"
   ]
  },
  {
   "cell_type": "markdown",
   "id": "5e9dd4eb",
   "metadata": {},
   "source": [
    "In the following cell you will define the loss and optimizer.\n",
    "The loss function defines the \"distance\" between the model's prediction and the ground truth. Our task it to minimize this \"distance\". \n",
    "\n",
    "The optimizer is the method in which we minimize the loss function. For example, SGD will change the weights of the model in the direction of the graidents of the loss. Such that the weights will minimize the loss."
   ]
  },
  {
   "cell_type": "code",
   "execution_count": 30,
   "id": "15f75e99",
   "metadata": {
    "id": "sZ3GcLKkkW11"
   },
   "outputs": [],
   "source": [
    "# Question 5.1: define optimizer and loss\n",
    "# Requirements: optimizer should be Adam, loss should be cross entropy\n",
    "#               both should be callables. implementations are available in PyTorch and can be used here, like we did with \"MNIST\"\n",
    "#               set the optimizer's learning rate to be 1e-3\n",
    "optimizer = torch.optim.Adam(params=model.parameters(), lr=1e-3)\n",
    "criterion = torch.nn.CrossEntropyLoss()"
   ]
  },
  {
   "cell_type": "markdown",
   "id": "8bedaf42",
   "metadata": {},
   "source": [
    "In the following cell you will create a DataLoader object. This object will allow you to iterate over the Dataset object you created, batch by bacth. (Because usually when training you will optimize your model one-by-one on each batch of the data.)"
   ]
  },
  {
   "cell_type": "code",
   "execution_count": 31,
   "id": "1f0bdf1b",
   "metadata": {
    "id": "E3hFm2s_3a1U"
   },
   "outputs": [],
   "source": [
    "# Question 6.1: Create 2 Instances of the class mentioned in Q1.4 for loading the training and validation data in batches\n",
    "# Requirements: set batch size to be 16\n",
    "#               train and validation data should be shuffled during each epoch\n",
    "#               set the pin_memory option to be the variable 'pin_memory_flag'\n",
    "batch_size = 16\n",
    "train_loader = DataLoader(dataset=train_dataset, batch_size=batch_size, shuffle=True, pin_memory=pin_memory_flag)\n",
    "val_loader = DataLoader(dataset=test_dataset, batch_size=batch_size, shuffle=True, pin_memory=pin_memory_flag)"
   ]
  },
  {
   "attachments": {
    "image.png": {
     "image/png": "[encoded data removed]"
    }
   },
   "cell_type": "markdown",
   "id": "18ed4264",
   "metadata": {},
   "source": [
    "In the next cell you will implement a visulizer of the network's predictions.\n",
    "The function will get as an input the loader (which allows you to iterate over the data, batch by bacth using a for loop) and the model. Ofcourse we have yet to train the model so we dont expect to have correct prediction at this stage.\n",
    "Below is an example:\n",
    "![image.png](attachment:image.png)"
   ]
  },
  {
   "cell_type": "code",
   "execution_count": 32,
   "id": "b6a8bc08",
   "metadata": {
    "colab": {
     "base_uri": "https://localhost:8080/",
     "height": 237
    },
    "id": "v_tcRaVhlAZi",
    "outputId": "526a116c-c0a2-4ebd-9c6e-a2e7f96c3fd3"
   },
   "outputs": [
    {
     "data": {
      "image/png": "[encoded data removed]",
      "text/plain": [
       "<Figure size 750x150 with 5 Axes>"
      ]
     },
     "metadata": {},
     "output_type": "display_data"
    },
    {
     "data": {
      "image/png": "[encoded data removed]",
      "text/plain": [
       "<Figure size 750x150 with 5 Axes>"
      ]
     },
     "metadata": {},
     "output_type": "display_data"
    }
   ],
   "source": [
    "# Question 7.1: Plot images, ground truths and predictions, use model.forward() for model evaluation\n",
    "import matplotlib.pyplot as plt\n",
    "\n",
    "def plot_example(loader, model, device, num_imgs=5):\n",
    "    for i, (imgs, labels) in enumerate(loader):\n",
    "        imgs = imgs.to(device)\n",
    "        labels = labels.to(device)\n",
    "        outputs = model(imgs)\n",
    "        _, predicted = torch.max(outputs, 1)\n",
    "        fig, axes = plt.subplots(1, num_imgs, figsize=(num_imgs * 1.5, 1.5))\n",
    "        for j in range(num_imgs):\n",
    "            axes[j].imshow(imgs[j].cpu().numpy().squeeze(), cmap='gray')\n",
    "            axes[j].set_title(f'GT: {labels[j]} Exp: {predicted[j]}')\n",
    "            axes[j].axis('off')\n",
    "        plt.tight_layout()\n",
    "        plt.show()\n",
    "        break \n",
    "\n",
    "plot_example(train_loader, model, device, num_imgs=5)\n",
    "\n",
    "plot_example(val_loader, model, device, num_imgs=5)"
   ]
  },
  {
   "cell_type": "markdown",
   "id": "3a63e9e6",
   "metadata": {},
   "source": [
    "Now we can start training the model, follow the guidence and train the model."
   ]
  },
  {
   "cell_type": "code",
   "execution_count": 35,
   "id": "015d1c35",
   "metadata": {
    "colab": {
     "base_uri": "https://localhost:8080/"
    },
    "id": "kUHtF9Gg3D8m",
    "outputId": "e65645b4-24d3-406e-ebe8-4fee2baa6871"
   },
   "outputs": [
    {
     "name": "stdout",
     "output_type": "stream",
     "text": [
      "Start training\n"
     ]
    },
    {
     "name": "stderr",
     "output_type": "stream",
     "text": [
      "  0%|                                                                                                                                               | 0/20 [00:00<?, ?it/s]"
     ]
    },
    {
     "name": "stdout",
     "output_type": "stream",
     "text": [
      "Epoch 1 out of 20\n",
      "Train loss: 0.41516121383210025\n"
     ]
    },
    {
     "name": "stderr",
     "output_type": "stream",
     "text": [
      "  5%|██████▊                                                                                                                                | 1/20 [00:09<02:58,  9.37s/it]"
     ]
    },
    {
     "name": "stdout",
     "output_type": "stream",
     "text": [
      "Validation loss: 0.30346744945943355\n",
      "Epoch 2 out of 20\n",
      "Train loss: 0.3042970384096106\n"
     ]
    },
    {
     "name": "stderr",
     "output_type": "stream",
     "text": [
      " 10%|█████████████▌                                                                                                                         | 2/20 [00:18<02:41,  8.98s/it]"
     ]
    },
    {
     "name": "stdout",
     "output_type": "stream",
     "text": [
      "Validation loss: 0.2829950849235058\n",
      "Epoch 3 out of 20\n",
      "Train loss: 0.2917962785452604\n"
     ]
    },
    {
     "name": "stderr",
     "output_type": "stream",
     "text": [
      " 15%|████████████████████▎                                                                                                                  | 3/20 [00:26<02:30,  8.86s/it]"
     ]
    },
    {
     "name": "stdout",
     "output_type": "stream",
     "text": [
      "Validation loss: 0.28024807204902175\n",
      "Epoch 4 out of 20\n",
      "Train loss: 0.28507097229038675\n"
     ]
    },
    {
     "name": "stderr",
     "output_type": "stream",
     "text": [
      " 20%|███████████████████████████                                                                                                            | 4/20 [00:35<02:20,  8.80s/it]"
     ]
    },
    {
     "name": "stdout",
     "output_type": "stream",
     "text": [
      "Validation loss: 0.2727967303812504\n",
      "Epoch 5 out of 20\n",
      "Train loss: 0.2817816333539784\n"
     ]
    },
    {
     "name": "stderr",
     "output_type": "stream",
     "text": [
      " 25%|█████████████████████████████████▊                                                                                                     | 5/20 [00:44<02:11,  8.75s/it]"
     ]
    },
    {
     "name": "stdout",
     "output_type": "stream",
     "text": [
      "Validation loss: 0.2709580230712891\n",
      "Epoch 6 out of 20\n",
      "Train loss: 0.2796239690820376\n"
     ]
    },
    {
     "name": "stderr",
     "output_type": "stream",
     "text": [
      " 30%|████████████████████████████████████████▌                                                                                              | 6/20 [00:52<02:02,  8.72s/it]"
     ]
    },
    {
     "name": "stdout",
     "output_type": "stream",
     "text": [
      "Validation loss: 0.2720584857977927\n",
      "Epoch 7 out of 20\n",
      "Train loss: 0.27745103594735265\n"
     ]
    },
    {
     "name": "stderr",
     "output_type": "stream",
     "text": [
      " 35%|███████████████████████████████████████████████▎                                                                                       | 7/20 [01:01<01:53,  8.70s/it]"
     ]
    },
    {
     "name": "stdout",
     "output_type": "stream",
     "text": [
      "Validation loss: 0.2704773553431034\n",
      "Epoch 8 out of 20\n",
      "Train loss: 0.27620810857911904\n"
     ]
    },
    {
     "name": "stderr",
     "output_type": "stream",
     "text": [
      " 40%|██████████████████████████████████████████████████████                                                                                 | 8/20 [01:10<01:44,  8.70s/it]"
     ]
    },
    {
     "name": "stdout",
     "output_type": "stream",
     "text": [
      "Validation loss: 0.27498039602935315\n",
      "Epoch 9 out of 20\n",
      "Train loss: 0.2745866731323302\n"
     ]
    },
    {
     "name": "stderr",
     "output_type": "stream",
     "text": [
      " 45%|████████████████████████████████████████████████████████████▊                                                                          | 9/20 [01:18<01:35,  8.70s/it]"
     ]
    },
    {
     "name": "stdout",
     "output_type": "stream",
     "text": [
      "Validation loss: 0.27539337570369243\n",
      "Epoch 10 out of 20\n",
      "Train loss: 0.2736110592961311\n"
     ]
    },
    {
     "name": "stderr",
     "output_type": "stream",
     "text": [
      " 50%|███████████████████████████████████████████████████████████████████                                                                   | 10/20 [01:27<01:27,  8.71s/it]"
     ]
    },
    {
     "name": "stdout",
     "output_type": "stream",
     "text": [
      "Validation loss: 0.2791599322870374\n",
      "Epoch 11 out of 20\n",
      "Train loss: 0.2729689480597774\n"
     ]
    },
    {
     "name": "stderr",
     "output_type": "stream",
     "text": [
      " 55%|█████████████████████████████████████████████████████████████████████████▋                                                            | 11/20 [01:36<01:18,  8.71s/it]"
     ]
    },
    {
     "name": "stdout",
     "output_type": "stream",
     "text": [
      "Validation loss: 0.26884168026298283\n",
      "Epoch 12 out of 20\n",
      "Train loss: 0.27221546092505255\n"
     ]
    },
    {
     "name": "stderr",
     "output_type": "stream",
     "text": [
      " 60%|████████████████████████████████████████████████████████████████████████████████▍                                                     | 12/20 [01:45<01:09,  8.71s/it]"
     ]
    },
    {
     "name": "stdout",
     "output_type": "stream",
     "text": [
      "Validation loss: 0.26963505872637034\n",
      "Epoch 13 out of 20\n",
      "Train loss: 0.27110215564804774\n"
     ]
    },
    {
     "name": "stderr",
     "output_type": "stream",
     "text": [
      " 65%|███████████████████████████████████████████████████████████████████████████████████████                                               | 13/20 [01:53<01:00,  8.71s/it]"
     ]
    },
    {
     "name": "stdout",
     "output_type": "stream",
     "text": [
      "Validation loss: 0.26908167731314897\n",
      "Epoch 14 out of 20\n",
      "Train loss: 0.27100147636582456\n"
     ]
    },
    {
     "name": "stderr",
     "output_type": "stream",
     "text": [
      " 70%|█████████████████████████████████████████████████████████████████████████████████████████████▊                                        | 14/20 [02:02<00:52,  8.72s/it]"
     ]
    },
    {
     "name": "stdout",
     "output_type": "stream",
     "text": [
      "Validation loss: 0.2692215532809496\n",
      "Epoch 15 out of 20\n",
      "Train loss: 0.2703409678184738\n"
     ]
    },
    {
     "name": "stderr",
     "output_type": "stream",
     "text": [
      " 75%|████████████████████████████████████████████████████████████████████████████████████████████████████▌                                 | 15/20 [02:11<00:43,  8.72s/it]"
     ]
    },
    {
     "name": "stdout",
     "output_type": "stream",
     "text": [
      "Validation loss: 0.2677053498610854\n",
      "Epoch 16 out of 20\n",
      "Train loss: 0.26964535233254233\n"
     ]
    },
    {
     "name": "stderr",
     "output_type": "stream",
     "text": [
      " 80%|███████████████████████████████████████████████████████████████████████████████████████████████████████████▏                          | 16/20 [02:19<00:34,  8.72s/it]"
     ]
    },
    {
     "name": "stdout",
     "output_type": "stream",
     "text": [
      "Validation loss: 0.27115226140767335\n",
      "Epoch 17 out of 20\n",
      "Train loss: 0.2691555555501332\n"
     ]
    },
    {
     "name": "stderr",
     "output_type": "stream",
     "text": [
      " 85%|█████████████████████████████████████████████████████████████████████████████████████████████████████████████████▉                    | 17/20 [02:28<00:26,  8.71s/it]"
     ]
    },
    {
     "name": "stdout",
     "output_type": "stream",
     "text": [
      "Validation loss: 0.27524679467976093\n",
      "Epoch 18 out of 20\n",
      "Train loss: 0.2688072663502147\n"
     ]
    },
    {
     "name": "stderr",
     "output_type": "stream",
     "text": [
      " 90%|████████████████████████████████████████████████████████████████████████████████████████████████████████████████████████▌             | 18/20 [02:37<00:17,  8.72s/it]"
     ]
    },
    {
     "name": "stdout",
     "output_type": "stream",
     "text": [
      "Validation loss: 0.2734845784202218\n",
      "Epoch 19 out of 20\n",
      "Train loss: 0.26843438363969324\n"
     ]
    },
    {
     "name": "stderr",
     "output_type": "stream",
     "text": [
      " 95%|███████████████████████████████████████████████████████████████████████████████████████████████████████████████████████████████▎      | 19/20 [02:46<00:08,  8.72s/it]"
     ]
    },
    {
     "name": "stdout",
     "output_type": "stream",
     "text": [
      "Validation loss: 0.2666234738215804\n",
      "Epoch 20 out of 20\n",
      "Train loss: 0.2686142631230255\n"
     ]
    },
    {
     "name": "stderr",
     "output_type": "stream",
     "text": [
      "100%|██████████████████████████████████████████████████████████████████████████████████████████████████████████████████████████████████████| 20/20 [02:54<00:00,  8.74s/it]"
     ]
    },
    {
     "name": "stdout",
     "output_type": "stream",
     "text": [
      "Validation loss: 0.26558534414321183\n",
      "End training\n"
     ]
    },
    {
     "name": "stderr",
     "output_type": "stream",
     "text": [
      "\n"
     ]
    }
   ],
   "source": [
    "# Question 8.1: Write a training loop for 20 epochs (fill in what is missing)\n",
    "#               Make sure gradients are not used during validation!\n",
    "from tqdm import tqdm  # This is used for a fancy training progress bar\n",
    "\n",
    "def train(model, train_loader, val_loader, optimizer, criterion, max_epochs=0, max_batches=5000):\n",
    "  print(\"Start training\")\n",
    "  train_loss_list=[]\n",
    "  val_loss_list=[]\n",
    "  for epoch in tqdm(range(max_epochs)):\n",
    "    print (\"Epoch \" + str(epoch + 1) + \" out of \" + str(max_epochs))\n",
    "    # Train 1 Epoch\n",
    "    train_loss_mean = train_one_epoch(\n",
    "        model=model,\n",
    "        train_loader=train_loader,\n",
    "        optimizer=optimizer,\n",
    "        criterion=criterion,\n",
    "        max_batches=max_batches\n",
    "        )\n",
    "    # Add loss to list\n",
    "    train_loss_list.append(train_loss_mean)\n",
    "    # Validate 1 Epoch\n",
    "    val_loss_mean = validate(\n",
    "        model=model,\n",
    "        val_loader=val_loader,\n",
    "        criterion=criterion\n",
    "        )\n",
    "    # Add loss to list\n",
    "    val_loss_list.append(val_loss_mean)\n",
    "  print(\"End training\")\n",
    "  return train_loss_list, val_loss_list\n",
    "\n",
    "def train_one_epoch(model, train_loader, optimizer, criterion, max_batches=5000):\n",
    "  #  initialize average loss value\n",
    "  train_loss_mean = 0\n",
    "  # Loop over batches\n",
    "  for batch_idx, batch in enumerate(train_loader):\n",
    "    # Train 1 batch\n",
    "    # organize batch to samples and tragets\n",
    "    batch_imgs, batch_labels = batch\n",
    "    batch_imgs, batch_labels = batch_imgs.to(device), batch_labels.to(device)\n",
    "    # zero the optimizer gradients\n",
    "    optimizer.zero_grad()\n",
    "    # Forward pass\n",
    "    model_output = model(batch_imgs)\n",
    "    # Calculate train loss\n",
    "    train_loss = criterion(model_output, batch_labels)\n",
    "    # Back-propagation\n",
    "    train_loss.backward()\n",
    "    # optimizer step\n",
    "    optimizer.step()\n",
    "    # aggregate loss\n",
    "    train_loss_mean += train_loss.item()\n",
    "    # Break early if exceeded max number of batches\n",
    "    if batch_idx >= max_batches:\n",
    "      break\n",
    "  # Normalize loss\n",
    "  train_loss_mean /= (batch_idx + 1)\n",
    "    # Print loss:\n",
    "  print (\"Train loss:\", train_loss_mean)\n",
    "  return train_loss_mean\n",
    "\n",
    "def validate(model, val_loader, criterion):\n",
    "  #  initialize average loss value\n",
    "  val_loss_mean = 0\n",
    "  # Loop over batches\n",
    "  model.eval() \n",
    "  with torch.no_grad():\n",
    "    for batch_idx, batch in enumerate(val_loader):\n",
    "      # validate 1 batch\n",
    "      # organize batch to samples and tragets\n",
    "      batch_imgs, batch_labels = batch\n",
    "      batch_imgs, batch_labels = batch_imgs.to(device), batch_labels.to(device)\n",
    "      # Forward pass\n",
    "      model_output = model(batch_imgs)\n",
    "      # Calculate validation loss\n",
    "      val_loss = criterion(model_output, batch_labels)\n",
    "      # aggregate loss\n",
    "      val_loss_mean += val_loss.item()\n",
    "  # Normalize loss\n",
    "  val_loss_mean /= (batch_idx + 1)\n",
    "  # Print loss:\n",
    "  print (\"Validation loss:\", val_loss_mean)\n",
    "  return val_loss_mean\n",
    "\n",
    "# Training parameters\n",
    "max_epochs = 20\n",
    "max_batches = 5000\n",
    "# # initialize list of losses vs. epochs\n",
    "train_loss_list_a = []\n",
    "val_loss_list_a = []\n",
    "\n",
    "# Train model\n",
    "train_loss_list_a, val_loss_list_a = train(\n",
    "    model=model,\n",
    "    train_loader=train_loader,\n",
    "    val_loader=val_loader,\n",
    "    optimizer=optimizer,\n",
    "    criterion=criterion,\n",
    "    max_epochs=max_epochs,\n",
    "    max_batches=max_batches\n",
    "    )"
   ]
  },
  {
   "cell_type": "code",
   "execution_count": 36,
   "id": "95c5835f",
   "metadata": {
    "colab": {
     "base_uri": "https://localhost:8080/",
     "height": 466
    },
    "id": "7Dx9aYVVK8sE",
    "outputId": "61c9afff-b60c-40ef-f4ed-f9a024ed1998"
   },
   "outputs": [
    {
     "data": {
      "image/png": "[encoded data removed]",
      "text/plain": [
       "<Figure size 640x480 with 1 Axes>"
      ]
     },
     "metadata": {},
     "output_type": "display_data"
    },
    {
     "data": {
      "image/png": "[encoded data removed]",
      "text/plain": [
       "<Figure size 750x150 with 5 Axes>"
      ]
     },
     "metadata": {},
     "output_type": "display_data"
    }
   ],
   "source": [
    "# Question 9.1: Plot training and validation losses\n",
    "import matplotlib.pyplot as plt\n",
    "\n",
    "def plot_losses(train_loss_list, val_loss_list):\n",
    "    plt.plot(train_loss_list, label='Train Loss')\n",
    "    plt.plot(val_loss_list, label='Validation Loss')\n",
    "    plt.xlabel('Epoch')\n",
    "    plt.ylabel('Loss')\n",
    "    plt.legend()\n",
    "    plt.show()\n",
    "\n",
    "plot_losses(train_loss_list_a, val_loss_list_a)\n",
    "\n",
    "# Question 9.2: Use your code from question 7 to evaluate the model's performance\n",
    "plot_example(val_loader, model, device, num_imgs=5)"
   ]
  },
  {
   "cell_type": "code",
   "execution_count": 37,
   "id": "b3bc608a",
   "metadata": {},
   "outputs": [
    {
     "name": "stdout",
     "output_type": "stream",
     "text": [
      "Start training\n"
     ]
    },
    {
     "name": "stderr",
     "output_type": "stream",
     "text": [
      "  0%|                                                                                                                                               | 0/20 [00:00<?, ?it/s]"
     ]
    },
    {
     "name": "stdout",
     "output_type": "stream",
     "text": [
      "Epoch 1 out of 20\n",
      "Train loss: 0.247965323142459\n"
     ]
    },
    {
     "name": "stderr",
     "output_type": "stream",
     "text": [
      "  5%|██████▊                                                                                                                                | 1/20 [00:09<03:09,  9.97s/it]"
     ]
    },
    {
     "name": "stdout",
     "output_type": "stream",
     "text": [
      "Validation loss: 0.13114518967568875\n",
      "Epoch 2 out of 20\n",
      "Train loss: 0.11514298685117004\n"
     ]
    },
    {
     "name": "stderr",
     "output_type": "stream",
     "text": [
      " 10%|█████████████▌                                                                                                                         | 2/20 [00:19<02:57,  9.84s/it]"
     ]
    },
    {
     "name": "stdout",
     "output_type": "stream",
     "text": [
      "Validation loss: 0.09261867956300267\n",
      "Epoch 3 out of 20\n",
      "Train loss: 0.08600621042153021\n"
     ]
    },
    {
     "name": "stderr",
     "output_type": "stream",
     "text": [
      " 15%|████████████████████▎                                                                                                                  | 3/20 [00:29<02:46,  9.80s/it]"
     ]
    },
    {
     "name": "stdout",
     "output_type": "stream",
     "text": [
      "Validation loss: 0.08096990362238139\n",
      "Epoch 4 out of 20\n",
      "Train loss: 0.0718148925448341\n"
     ]
    },
    {
     "name": "stderr",
     "output_type": "stream",
     "text": [
      " 20%|███████████████████████████                                                                                                            | 4/20 [00:39<02:36,  9.78s/it]"
     ]
    },
    {
     "name": "stdout",
     "output_type": "stream",
     "text": [
      "Validation loss: 0.08640769026954659\n",
      "Epoch 5 out of 20\n",
      "Train loss: 0.06082174062090247\n"
     ]
    },
    {
     "name": "stderr",
     "output_type": "stream",
     "text": [
      " 25%|█████████████████████████████████▊                                                                                                     | 5/20 [00:48<02:26,  9.77s/it]"
     ]
    },
    {
     "name": "stdout",
     "output_type": "stream",
     "text": [
      "Validation loss: 0.08736238548199181\n",
      "Epoch 6 out of 20\n",
      "Train loss: 0.054623840592831645\n"
     ]
    },
    {
     "name": "stderr",
     "output_type": "stream",
     "text": [
      " 30%|████████████████████████████████████████▌                                                                                              | 6/20 [00:58<02:16,  9.76s/it]"
     ]
    },
    {
     "name": "stdout",
     "output_type": "stream",
     "text": [
      "Validation loss: 0.09178924585711211\n",
      "Epoch 7 out of 20\n",
      "Train loss: 0.048825324988929664\n"
     ]
    },
    {
     "name": "stderr",
     "output_type": "stream",
     "text": [
      " 35%|███████████████████████████████████████████████▎                                                                                       | 7/20 [01:08<02:06,  9.76s/it]"
     ]
    },
    {
     "name": "stdout",
     "output_type": "stream",
     "text": [
      "Validation loss: 0.08252025971384137\n",
      "Epoch 8 out of 20\n",
      "Train loss: 0.043642041821901026\n"
     ]
    },
    {
     "name": "stderr",
     "output_type": "stream",
     "text": [
      " 40%|██████████████████████████████████████████████████████                                                                                 | 8/20 [01:18<01:57,  9.76s/it]"
     ]
    },
    {
     "name": "stdout",
     "output_type": "stream",
     "text": [
      "Validation loss: 0.07864374862053665\n",
      "Epoch 9 out of 20\n",
      "Train loss: 0.040330841283413243\n"
     ]
    },
    {
     "name": "stderr",
     "output_type": "stream",
     "text": [
      " 45%|████████████████████████████████████████████████████████████▊                                                                          | 9/20 [01:27<01:47,  9.76s/it]"
     ]
    },
    {
     "name": "stdout",
     "output_type": "stream",
     "text": [
      "Validation loss: 0.07373248884088097\n",
      "Epoch 10 out of 20\n",
      "Train loss: 0.03477756583832749\n"
     ]
    },
    {
     "name": "stderr",
     "output_type": "stream",
     "text": [
      " 50%|███████████████████████████████████████████████████████████████████                                                                   | 10/20 [01:37<01:37,  9.76s/it]"
     ]
    },
    {
     "name": "stdout",
     "output_type": "stream",
     "text": [
      "Validation loss: 0.08613282720763528\n",
      "Epoch 11 out of 20\n",
      "Train loss: 0.033642954262953696\n"
     ]
    },
    {
     "name": "stderr",
     "output_type": "stream",
     "text": [
      " 55%|█████████████████████████████████████████████████████████████████████████▋                                                            | 11/20 [01:47<01:27,  9.75s/it]"
     ]
    },
    {
     "name": "stdout",
     "output_type": "stream",
     "text": [
      "Validation loss: 0.08879006887715368\n",
      "Epoch 12 out of 20\n",
      "Train loss: 0.030452978231994925\n"
     ]
    },
    {
     "name": "stderr",
     "output_type": "stream",
     "text": [
      " 60%|████████████████████████████████████████████████████████████████████████████████▍                                                     | 12/20 [01:57<01:18,  9.75s/it]"
     ]
    },
    {
     "name": "stdout",
     "output_type": "stream",
     "text": [
      "Validation loss: 0.07617174935385555\n",
      "Epoch 13 out of 20\n",
      "Train loss: 0.02876789049926042\n"
     ]
    },
    {
     "name": "stderr",
     "output_type": "stream",
     "text": [
      " 65%|███████████████████████████████████████████████████████████████████████████████████████                                               | 13/20 [02:06<01:08,  9.75s/it]"
     ]
    },
    {
     "name": "stdout",
     "output_type": "stream",
     "text": [
      "Validation loss: 0.08508316764815245\n",
      "Epoch 14 out of 20\n",
      "Train loss: 0.026496267763264435\n"
     ]
    },
    {
     "name": "stderr",
     "output_type": "stream",
     "text": [
      " 70%|█████████████████████████████████████████████████████████████████████████████████████████████▊                                        | 14/20 [02:16<00:58,  9.75s/it]"
     ]
    },
    {
     "name": "stdout",
     "output_type": "stream",
     "text": [
      "Validation loss: 0.11329773794015237\n",
      "Epoch 15 out of 20\n",
      "Train loss: 0.02733846021611383\n"
     ]
    },
    {
     "name": "stderr",
     "output_type": "stream",
     "text": [
      " 75%|████████████████████████████████████████████████████████████████████████████████████████████████████▌                                 | 15/20 [02:26<00:48,  9.75s/it]"
     ]
    },
    {
     "name": "stdout",
     "output_type": "stream",
     "text": [
      "Validation loss: 0.09062608984166909\n",
      "Epoch 16 out of 20\n",
      "Train loss: 0.023612701402738533\n"
     ]
    },
    {
     "name": "stderr",
     "output_type": "stream",
     "text": [
      " 80%|███████████████████████████████████████████████████████████████████████████████████████████████████████████▏                          | 16/20 [02:36<00:38,  9.75s/it]"
     ]
    },
    {
     "name": "stdout",
     "output_type": "stream",
     "text": [
      "Validation loss: 0.09904949346064364\n",
      "Epoch 17 out of 20\n",
      "Train loss: 0.024790621672326103\n"
     ]
    },
    {
     "name": "stderr",
     "output_type": "stream",
     "text": [
      " 85%|█████████████████████████████████████████████████████████████████████████████████████████████████████████████████▉                    | 17/20 [02:45<00:29,  9.75s/it]"
     ]
    },
    {
     "name": "stdout",
     "output_type": "stream",
     "text": [
      "Validation loss: 0.08372509561808443\n",
      "Epoch 18 out of 20\n",
      "Train loss: 0.021821619078859586\n"
     ]
    },
    {
     "name": "stderr",
     "output_type": "stream",
     "text": [
      " 90%|████████████████████████████████████████████████████████████████████████████████████████████████████████████████████████▌             | 18/20 [02:55<00:19,  9.74s/it]"
     ]
    },
    {
     "name": "stdout",
     "output_type": "stream",
     "text": [
      "Validation loss: 0.11249718870636716\n",
      "Epoch 19 out of 20\n",
      "Train loss: 0.022053675841928508\n"
     ]
    },
    {
     "name": "stderr",
     "output_type": "stream",
     "text": [
      " 95%|███████████████████████████████████████████████████████████████████████████████████████████████████████████████████████████████▎      | 19/20 [03:05<00:09,  9.74s/it]"
     ]
    },
    {
     "name": "stdout",
     "output_type": "stream",
     "text": [
      "Validation loss: 0.09031780328047674\n",
      "Epoch 20 out of 20\n",
      "Train loss: 0.020968071054244707\n"
     ]
    },
    {
     "name": "stderr",
     "output_type": "stream",
     "text": [
      "100%|██████████████████████████████████████████████████████████████████████████████████████████████████████████████████████████████████████| 20/20 [03:15<00:00,  9.76s/it]"
     ]
    },
    {
     "name": "stdout",
     "output_type": "stream",
     "text": [
      "Validation loss: 0.11067102067407432\n",
      "End training\n"
     ]
    },
    {
     "name": "stderr",
     "output_type": "stream",
     "text": [
      "\n"
     ]
    },
    {
     "data": {
      "image/png": "[encoded data removed]",
      "text/plain": [
       "<Figure size 640x480 with 1 Axes>"
      ]
     },
     "metadata": {},
     "output_type": "display_data"
    }
   ],
   "source": [
    "# Question 10.1: Write a new class \"DeeperNeuralNetwork\" that has 3 linear layers with input sizes: \n",
    "# image_num_pix, image_num_pix/2, num/classes*5, with 2 ReLU activation layes and one log_softmax in the end\n",
    "\n",
    "class DeeperNeuralNetwork(torch.nn.Module):\n",
    "    def __init__(self, image_num_pix: int, num_classes: int):\n",
    "\n",
    "        # Initialize as any other torch.nn.Module\n",
    "        super(DeeperNeuralNetwork, self).__init__()\n",
    "\n",
    "        self.in_features = image_num_pix\n",
    "\n",
    "        # Define layers, activations and softmax:\n",
    "        self.lyr1 = torch.nn.Linear(in_features=self.in_features, out_features=image_num_pix//2)\n",
    "        self.lyr2 = torch.nn.Linear(in_features=image_num_pix//2, out_features=num_classes*5)\n",
    "        self.lyr3 = torch.nn.Linear(in_features=num_classes*5, out_features=num_classes)\n",
    "        \n",
    "        self.relu = torch.nn.ReLU()  \n",
    "        self.log_softmax = torch.nn.LogSoftmax(dim=1)\n",
    "\n",
    "    def forward(self, img: torch.Tensor) -> torch.Tensor:\n",
    "        # Technical overhead: Used to reshape to avoid RuntimeError when processing 2D data\n",
    "        img_1 = torch.reshape(img, (img.shape[0], self.in_features))\n",
    "        #Pass through layers:\n",
    "        output = self.relu(self.lyr1(img_1))\n",
    "        output = self.relu(self.lyr2(output))\n",
    "        output = self.lyr3(output)\n",
    "        output = self.log_softmax(output)\n",
    "\n",
    "        return output\n",
    "\n",
    "# Question 10.2: define the model, train it and plot the loss for traning and validation, and the examples.\n",
    "# Use the functions that you defined before with the same parameters, use different names for the outputs.\n",
    "deeper_model = DeeperNeuralNetwork(image_num_pix=image_num_pix, num_classes=num_classes)\n",
    "deeper_model = deeper_model.to(device=device)\n",
    "\n",
    "optimizer = torch.optim.Adam(params=deeper_model.parameters(), lr=1e-3)\n",
    "\n",
    "train_loss_list_b = []\n",
    "val_loss_list_b = []\n",
    "\n",
    "# Train model\n",
    "train_loss_list_b, val_loss_list_b = train(\n",
    "    model=deeper_model,\n",
    "    train_loader=train_loader,\n",
    "    val_loader=val_loader,\n",
    "    optimizer=optimizer,\n",
    "    criterion=criterion,\n",
    "    max_epochs=max_epochs,\n",
    "    max_batches=max_batches\n",
    "    )\n",
    "\n",
    "plot_losses(train_loss_list_b, val_loss_list_b)\n",
    "\n",
    "# Question 10.3: did the results improved?"
   ]
  },
  {
   "cell_type": "markdown",
   "id": "9d168f3f",
   "metadata": {},
   "source": [
    "# Question 10.3: did the results improved?\n",
    "The results did improve and around 0.28 loss on the validation set to 0.1 loss"
   ]
  },
  {
   "cell_type": "markdown",
   "id": "c34cd925",
   "metadata": {
    "id": "J1oxBLUcarAK"
   },
   "source": [
    "## Questions\n",
    "1. What is the effect of different number of epochs? different learning rate?\n",
    "   \n",
    "Answer = The number of epochs is the number the times gradients are being updated according to the loss of the current training.\n",
    "The learning rate determines how fast the loss the will be minimized and the model will converge on the optimal weights. High learing rate will speed up convergence but might miss the optimal weights while low learning rate will be more precise but takes more time.\n",
    "\n",
    "2. Look at the training progression as is printed to the screen. Which is faster (in terms of iterations / second): training or validation? Why is that the case?\n",
    "\n",
    "Answer = Validation is generally faster than training because it requires the backpropagation step, which is computationally intensive and only occurs during the training and not during the validation steps.\n",
    "\n",
    "3. What happens to the training time if we increase the images' size? What would happen if the \"device\" variable was set differently?\n",
    "\n",
    "Answer = Larger images will have higher dimensions which will lead to slower training since more data must be processed. If a GPU was not available the device would have changed to CPU and the training would have been slower. GPU can handle repetitive calculations much faster than a CPU.\n",
    "\n",
    "4. What is the risk of performig validation without disabling gradients?\n",
    "\n",
    "Answer = Not disabling gradients during validation consumes extra memory and processing power unnecessarily.\n",
    "\n",
    "5. How would you measure your model robustness to noise?\n",
    "\n",
    "Answer = Add random noise to the test data and evaluate how the model handle the noisy data\n",
    "\n",
    "6. What are better models for the classification task given in this exercise?\n",
    "\n",
    "Answer = Convolutional Neural Networks (CNNs) are considered the standard for image classification tasks and probably could yeild better results."
   ]
  }
 ],
 "metadata": {
  "accelerator": "GPU",
  "colab": {
   "provenance": []
  },
  "gpuClass": "standard",
  "kernelspec": {
   "display_name": "aihub_env",
   "language": "python",
   "name": "aihub_env"
  }
 },
 "nbformat": 4,
 "nbformat_minor": 5
}
